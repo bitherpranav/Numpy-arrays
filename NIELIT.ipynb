
    {
      "cell_type": "markdown",
      "source": [
        "NUMPY"
      ],
      "metadata": {
        "id": "Yf2h9MRjgraJ"
      }
    },
    {
      "cell_type": "markdown",
      "source": [
        "Creating numpy array"
      ],
      "metadata": {
        "id": "kq0mAiGYf3QR"
      }
    },
    {
      "cell_type": "code",
      "source": [
        "import numpy as np\n",
        "a=np.array([1,2,4]) #1D array\n",
        "print(type(a))\n",
        "print(a)"
      ],
      "metadata": {
        "colab": {
          "base_uri": "https://localhost:8080/"
        },
        "id": "tlWHyLy_mO3c",
        "outputId": "88ee82c7-54d1-4d85-9905-d30b7ca486bb"
      },
      "execution_count": null,
      "outputs": [
        {
          "output_type": "stream",
          "name": "stdout",
          "text": [
            "<class 'numpy.ndarray'>\n",
            "[1 2 4]\n"
          ]
        }
      ]
    },
    {
      "cell_type": "code",
      "source": [
        "import numpy as np\n",
        "a=np.array([[1,2,3],[1,2,3]]) #2D array using list os lists\n",
        "print(a,\"\\n\")\n",
        "\n",
        "b=np.array([(1,2,3),(4,5,6)]) #2D array using list if tuples\n",
        "print(b,\"\\n\")\n",
        "\n",
        "c=np.array([range(i,i+3) for i in [2,3,5]])  #2D array using list comprehension\n",
        "print(c,\"\\n\")\n",
        "\n",
        "d=np.array([[i for i in range(3)] for j in range(4)]) #2D array using list comprehension\n",
        "print(d)"
      ],
      "metadata": {
        "colab": {
          "base_uri": "https://localhost:8080/"
        },
        "id": "uuqbH7GBEZpv",
        "outputId": "d6cee7a2-9747-4761-f8c7-d718613a4c31"
      },
      "execution_count": null,
      "outputs": [
        {
          "output_type": "stream",
          "name": "stdout",
          "text": [
            "[[1 2 3]\n",
            " [1 2 3]] \n",
            "\n",
            "[[1 2 3]\n",
            " [4 5 6]] \n",
            "\n",
            "[[0 1 2]\n",
            " [1 2 3]\n",
            " [2 3 4]] \n",
            "\n",
            "[[0 1 2]\n",
            " [0 1 2]\n",
            " [0 1 2]\n",
            " [0 1 2]]\n"
          ]
        }
      ]
    },
    {
      "cell_type": "markdown",
      "source": [
        "Various ways to create numpy array"
      ],
      "metadata": {
        "id": "0WI2meZvqaPh"
      }
    },
    {
      "cell_type": "code",
      "source": [
        "a=np.zeros((3,3),dtype=int)  #numpy array consisting of 0s\n",
        "print(a,\"\\n\")\n",
        "\n",
        "b=np.ones(10,dtype=int)      #numpy array consisting of 1s\n",
        "print(b,\"\\n\")\n",
        "\n",
        "c=np.full((3,5),3)           #numpy array consisting of specified number\n",
        "print(c,\"\\n\")\n",
        "\n",
        "d=np.arange(1,10,2)          # 1D numpy array consisting of numbers\n",
        "                                #specified in the range(start,end,steps) without including the end\n",
        "print(d,\"\\n\")\n",
        "\n",
        "e=np.linspace(0, 1, 5)       #gives equally sized array between given range\n",
        "print(e,\"\\n\")\n",
        "\n",
        "f=np.random.random((2,2))       #numpy array consisting of numbers between 0 and 1 \n",
        "print(f,\"\\n\")\n",
        "\n",
        "g=np.random.randint(1,2,(3,3)) #gives numpy array of random numbers bw two given numbers\n",
        "print(g,\"\\n\")\n",
        "\n",
        "h=np.eye(5)                    #identity matrix of given degree\n",
        "print(h,\"\\n\")\n",
        "\n",
        "i=np.empty((2,2,2))            #numpy array of garbage values of given degree\n",
        "print(i)\n"
      ],
      "metadata": {
        "colab": {
          "base_uri": "https://localhost:8080/"
        },
        "id": "pkb5gQnkI8wp",
        "outputId": "6e520da5-f159-474a-fd36-861d17a96bff"
      },
      "execution_count": null,
      "outputs": [
        {
          "output_type": "stream",
          "name": "stdout",
          "text": [
            "[[0 0 0]\n",
            " [0 0 0]\n",
            " [0 0 0]] \n",
            "\n",
            "[1 1 1 1 1 1 1 1 1 1] \n",
            "\n",
            "[[3 3 3 3 3]\n",
            " [3 3 3 3 3]\n",
            " [3 3 3 3 3]] \n",
            "\n",
            "[1 3 5 7 9] \n",
            "\n",
            "[0.   0.25 0.5  0.75 1.  ] \n",
            "\n",
            "[[0.33467462 0.38232033]\n",
            " [0.04588748 0.23675125]] \n",
            "\n",
            "[[1 1 1]\n",
            " [1 1 1]\n",
            " [1 1 1]] \n",
            "\n",
            "[[1. 0. 0. 0. 0.]\n",
            " [0. 1. 0. 0. 0.]\n",
            " [0. 0. 1. 0. 0.]\n",
            " [0. 0. 0. 1. 0.]\n",
            " [0. 0. 0. 0. 1.]] \n",
            "\n",
            "[[[4.14965815e-316 6.79038653e-313]\n",
            "  [2.16443571e-312 2.27053550e-312]]\n",
            "\n",
            " [[1.31563739e-312 6.79038653e-313]\n",
            "  [1.23075756e-312 0.00000000e+000]]]\n"
          ]
        }
      ]
    },
    {
      "cell_type": "markdown",
      "source": [
        "Numpy attributes"
      ],
      "metadata": {
        "id": "pl_fkWcpX35W"
      }
    },
    {
      "cell_type": "code",
      "source": [
        "import numpy as np\n",
        "np.random.seed(0)  # seed for reproducibility\n",
        "\n",
        "x1 = np.random.randint(6,10,5)  # One-dimensional array\n",
        "x2 = np.random.randint(10, size=(3, 4))  # Two-dimensional array\n",
        "x3 = np.random.randint(10, size=(3, 4, 5))  # Three-dimensional array\n",
        "#print(x1)\n",
        "#print(x2)\n",
        "print(x3)\n",
        "print(\"x3 dim:\",x3.ndim) #ndim gives the number of dimensions(axes) of the ndarray\n",
        "print(\"x3 shape:\",x3.shape) #shape is a tuple of integers representing the size of the ndarray in each dimension\n",
        "print(\"x3 size:\",x3.size) #size gives the total number of elements in the ndarray\n",
        "print(\"x3 dtype:\",x3.dtype) #dtype tells the data type of the elements of a NumPy array\n",
        "print(\"itemsize:\", x3.itemsize, \"bytes\") #itemsize returns the size (in bytes) of each element of a NumPy array.\n",
        "print(\"nbytes:\", x3.nbytes, \"bytes\") #nbytes returns the total size of a NumPy array."
      ],
      "metadata": {
        "colab": {
          "base_uri": "https://localhost:8080/"
        },
        "id": "jiCfOylqt_yo",
        "outputId": "420db9d2-c8d3-48a0-b2f8-54eb7a91c37a"
      },
      "execution_count": null,
      "outputs": [
        {
          "output_type": "stream",
          "name": "stdout",
          "text": [
            "[[[6 7 7 8 1]\n",
            "  [5 9 8 9 4]\n",
            "  [3 0 3 5 0]\n",
            "  [2 3 8 1 3]]\n",
            "\n",
            " [[3 3 7 0 1]\n",
            "  [9 9 0 4 7]\n",
            "  [3 2 7 2 0]\n",
            "  [0 4 5 5 6]]\n",
            "\n",
            " [[8 4 1 4 9]\n",
            "  [8 1 1 7 9]\n",
            "  [9 3 6 7 2]\n",
            "  [0 3 5 9 4]]]\n",
            "x3 dim: 3\n",
            "x3 shape: (3, 4, 5)\n",
            "x3 size: 60\n",
            "x3 dtype: int64\n",
            "itemsize: 8 bytes\n",
            "nbytes: 480 bytes\n",
            "[[3 7 9 3]\n",
            " [5 2 4 7]\n",
            " [6 8 8 1]]\n",
            "[[3 7 9 3 5 2]\n",
            " [4 7 6 8 8 1]]\n"
          ]
        }
      ]
    },
    {
      "cell_type": "markdown",
      "source": [
        "Reshaping of np arrays"
      ],
      "metadata": {
        "id": "RbkQyBMFi14F"
      }
    },
    {
      "cell_type": "code",
      "source": [
        "import numpy as np\n",
        "a=np.random.randint(1,10,(3,4))\n",
        "print(\"before reshaping: \\n\",a)\n",
        "print(\"\\n\")\n",
        "print(\"after reshaping: \\n\",a.reshape(2,6))"
      ],
      "metadata": {
        "colab": {
          "base_uri": "https://localhost:8080/"
        },
        "id": "2D72vzH_jBBg",
        "outputId": "ff67a80b-4305-45d2-fefc-7bed09aa7ab4"
      },
      "execution_count": null,
      "outputs": [
        {
          "output_type": "stream",
          "name": "stdout",
          "text": [
            "before reshaping: \n",
            " [[2 9 6 8]\n",
            " [6 6 2 4]\n",
            " [7 9 1 2]]\n",
            "\n",
            "\n",
            "after reshaping: \n",
            " [[2 9 6 8 6 6]\n",
            " [2 4 7 9 1 2]]\n"
          ]
        }
      ]
    },
    {
      "cell_type": "code",
      "source": [
        "import numpy as np\n",
        "a=np.random.randint(1,10,(2,3,4))\n",
        "print(\"before using ravel function:\\n\",a)\n",
        "print(\"\\n\")\n",
        "print(\"After using ravel function:\\n\",a.ravel())  #this will convert all the rows in one row"
      ],
      "metadata": {
        "colab": {
          "base_uri": "https://localhost:8080/"
        },
        "id": "Lp0ejzm1AdZS",
        "outputId": "c986a723-1131-43e2-d123-7d415d756267"
      },
      "execution_count": null,
      "outputs": [
        {
          "output_type": "stream",
          "name": "stdout",
          "text": [
            "before using ravel function:\n",
            " [[[4 8 4 2]\n",
            "  [4 6 1 4]\n",
            "  [6 2 9 2]]\n",
            "\n",
            " [[3 5 1 3]\n",
            "  [4 8 6 3]\n",
            "  [9 4 7 7]]]\n",
            "\n",
            "\n",
            "After using ravel function:\n",
            " [4 8 4 2 4 6 1 4 6 2 9 2 3 5 1 3 4 8 6 3 9 4 7 7]\n"
          ]
        }
      ]
    },
    {
      "cell_type": "code",
      "source": [
        "# addition, subtraction, multiplication, division of arrays\n",
        "a=np.array([[1,2,3],[4,5,6]])\n",
        "b=np.array([[1,2,3],[4,5,6]])\n",
        "\n",
        "print(a+b)\n",
        "print(\"\")\n",
        "print(a-b)\n",
        "print(end='')\n",
        "print(a*b) #this is not matrix multiplication\n",
        "print('end')\n",
        "print(a/b)"
      ],
      "metadata": {
        "colab": {
          "base_uri": "https://localhost:8080/"
        },
        "id": "6wA3c6t66mpx",
        "outputId": "a4806eec-fdf1-4289-b802-928373e6f89a"
      },
      "execution_count": null,
      "outputs": [
        {
          "output_type": "stream",
          "name": "stdout",
          "text": [
            "[[ 2  4  6]\n",
            " [ 8 10 12]]\n",
            "\n",
            "[[0 0 0]\n",
            " [0 0 0]]\n",
            "[[ 1  4  9]\n",
            " [16 25 36]]\n",
            "end\n",
            "[[1. 1. 1.]\n",
            " [1. 1. 1.]]\n"
          ]
        }
      ]
    },
    {
      "cell_type": "markdown",
      "source": [
        "Transpose of an array"
      ],
      "metadata": {
        "id": "S0nAxlgLh3Lt"
      }
    },
    {
      "cell_type": "code",
      "source": [
        "import numpy as np\n",
        "a=np.array([[1,2,3],[1,2,3]])\n",
        "print(\"a:\",a,\"\\n\")\n",
        "print(\"Transpose of a is \\n\",a.T)"
      ],
      "metadata": {
        "colab": {
          "base_uri": "https://localhost:8080/"
        },
        "id": "3uFc4q-_h95S",
        "outputId": "8cbbb5d2-b763-44e4-d210-fca7e46417ed"
      },
      "execution_count": null,
      "outputs": [
        {
          "output_type": "stream",
          "name": "stdout",
          "text": [
            "a: [[1 2 3]\n",
            " [1 2 3]] \n",
            "\n",
            "Transpose of a is \n",
            " [[1 1]\n",
            " [2 2]\n",
            " [3 3]]\n"
          ]
        }
      ]
    },
    {
      "cell_type": "code",
      "source": [
        "# max, min and sum\n",
        "\n",
        "a=np.array([1,2,3,4,5])\n",
        "print(a.max())\n",
        "print(a.min())\n",
        "print(a.sum())"
      ],
      "metadata": {
        "colab": {
          "base_uri": "https://localhost:8080/"
        },
        "id": "l-uKRU_coiU7",
        "outputId": "35de8bf8-74e4-4547-e4f4-47c3ecb221f3"
      },
      "execution_count": null,
      "outputs": [
        {
          "output_type": "stream",
          "name": "stdout",
          "text": [
            "5\n",
            "1\n",
            "15\n"
          ]
        }
      ]
    },
    {
      "cell_type": "code",
      "source": [
        "# rows are called axis=1, and cols are called axis=0\n",
        "import numpy as np\n",
        "a=np.array([[1,2,3],[4,5,6]])\n",
        "print(a.max(axis=0)) #this will give the max of each col\n",
        "\n",
        "print(a.max(axis=1)) #this will give the max of each row\n",
        "\n",
        "print(a.min(axis=0)) #this will give the min of each col\n",
        "\n",
        "print(a.min(axis=1)) #this will give the min of each row\n",
        "\n",
        "print(a.sum(axis=0)) #this willl give the sum of each col\n",
        "\n",
        "print(a.sum(axis=1)) #this will give the sum of each row"
      ],
      "metadata": {
        "colab": {
          "base_uri": "https://localhost:8080/"
        },
        "id": "gG5V33xfo6L_",
        "outputId": "6f8a7cd9-c3a7-4581-b1c4-7925f88e1fc1"
      },
      "execution_count": null,
      "outputs": [
        {
          "output_type": "stream",
          "name": "stdout",
          "text": [
            "[4 5 6]\n",
            "[3 6]\n",
            "[1 2 3]\n",
            "[1 4]\n",
            "[5 7 9]\n",
            "[ 6 15]\n"
          ]
        }
      ]
    },
    {
      "cell_type": "code",
      "source": [
        "# square root and standard deviation in numpy\n",
        "\n",
        "# standar deviation is how much each element deviates/varies from the mean or something like that\n",
        "\n",
        "import numpy as np\n",
        "\n",
        "a=np.array([4,9,16,25,36,49])\n",
        "print(np.sqrt(a)) #will print the square root of each element\n",
        "\n",
        "a=np.array([1,2,3,4,5])\n",
        "print(np.std(a))  #will print the standard deviation "
      ],
      "metadata": {
        "colab": {
          "base_uri": "https://localhost:8080/"
        },
        "id": "1CHnqctl5iA8",
        "outputId": "9cdce4a3-82ae-49e8-a53b-981a516618b7"
      },
      "execution_count": null,
      "outputs": [
        {
          "output_type": "stream",
          "name": "stdout",
          "text": [
            "[2. 3. 4. 5. 6. 7.]\n",
            "1.4142135623730951\n"
          ]
        }
      ]
    },
    {
      "cell_type": "code",
      "source": [
        "#concatenation in arrays\n",
        "a=np.array([[1,2,3],[4,5,6]])\n",
        "b=np.array([[7,8,9],[10,11,12]])\n",
        "c=np.array([[13,14,15],[16,17,18]])\n",
        "\n",
        "print(np.vstack((a,b,c)))  #vertical stack\n",
        "print('')\n",
        "print(np.hstack((a,b,c)))  #horizontal stack"
      ],
      "metadata": {
        "colab": {
          "base_uri": "https://localhost:8080/"
        },
        "id": "g1GQULAE7oAD",
        "outputId": "94fe369e-d851-4d1e-af76-6a906a739672"
      },
      "execution_count": null,
      "outputs": [
        {
          "output_type": "stream",
          "name": "stdout",
          "text": [
            "[[ 1  2  3]\n",
            " [ 4  5  6]\n",
            " [ 7  8  9]\n",
            " [10 11 12]\n",
            " [13 14 15]\n",
            " [16 17 18]]\n",
            "\n",
            "[[ 1  2  3  7  8  9 13 14 15]\n",
            " [ 4  5  6 10 11 12 16 17 18]]\n"
          ]
        }
      ]
    },
    {
      "cell_type": "markdown",
      "source": [
        "Numpy occupies less memory than list"
      ],
      "metadata": {
        "id": "aZo6yJmtjeBv"
      }
    },
    {
      "cell_type": "code",
      "source": [
        "import numpy as np\n",
        "import time\n",
        "import sys\n",
        "a=[i for i in range(10)]\n",
        "print(type(a))\n",
        "print(a)\n",
        "print(sys.getsizeof(1)*len(a))\n",
        "b=np.arange(10)\n",
        "print(type(b))\n",
        "print(b)\n",
        "print(b.itemsize*b.size)"
      ],
      "metadata": {
        "colab": {
          "base_uri": "https://localhost:8080/"
        },
        "id": "dzlBxHuWjl6f",
        "outputId": "a158f20a-683f-4af0-da2e-d2833ac729b5"
      },
      "execution_count": null,
      "outputs": [
        {
          "output_type": "stream",
          "name": "stdout",
          "text": [
            "<class 'list'>\n",
            "[0, 1, 2, 3, 4, 5, 6, 7, 8, 9]\n",
            "280\n",
            "<class 'numpy.ndarray'>\n",
            "[0 1 2 3 4 5 6 7 8 9]\n",
            "80\n"
          ]
        }
      ]
    },
    {
      "cell_type": "markdown",
      "source": [
        "Numpy is faster than lists"
      ],
      "metadata": {
        "id": "ty3uvnJZnI49"
      }
    },
    {
      "cell_type": "code",
      "source": [
        "import numpy as np\n",
        "import time\n",
        "size=10000000\n",
        "l1=range(size)\n",
        "l2=range(size)\n",
        "a1=np.arange(size)\n",
        "a2=np.arange(size)\n",
        "start=time.time()\n",
        "result=[(x+y) for x,y in zip(l1,l2)]\n",
        "#print(result)\n",
        "print((time.time()-start))\n",
        "start=time.time()\n",
        "result=a1+a2\n",
        "print((time.time()-start))"
      ],
      "metadata": {
        "colab": {
          "base_uri": "https://localhost:8080/"
        },
        "id": "dh1gYPBDnMza",
        "outputId": "f5d6188a-6748-43da-9c60-b63ba54c0b46"
      },
      "execution_count": null,
      "outputs": [
        {
          "output_type": "stream",
          "name": "stdout",
          "text": [
            "1.350170612335205\n",
            "0.15089893341064453\n"
          ]
        }
      ]
    },
    {
      "cell_type": "code",
      "source": [
        "import numpy as np\n",
        "import statistics\n",
        "url=\"https://raw.githubusercontent.com/ahkhaider-10/Python/master/ClassExamples/PJ121/Wines/winequality-red.csv\"\n",
        "file=np.genfromtxt(url,delimiter=\";\",skip_header=1)\n",
        "file\n",
        "print(file[1:3,1:3])\n",
        "print(file[1:3,[1,2,3]])\n",
        "print(file[[1,2,3],:])\n",
        "print(file.min())\n",
        "print(file.max(axis=1))\n",
        "print(np.std(file[:,6]))\n",
        "print(statistics.stdev(file[:,6]))\n",
        "print(statistics.variance(file[:,6]))"
      ],
      "metadata": {
        "colab": {
          "base_uri": "https://localhost:8080/"
        },
        "id": "xBnbI1CDG_lJ",
        "outputId": "d2885889-64c1-4725-87f6-3c51418e4459"
      },
      "execution_count": null,
      "outputs": [
        {
          "output_type": "stream",
          "name": "stdout",
          "text": [
            "[[0.88 0.  ]\n",
            " [0.76 0.04]]\n",
            "[[0.88 0.   2.6 ]\n",
            " [0.76 0.04 2.3 ]]\n",
            "[[7.800e+00 8.800e-01 0.000e+00 2.600e+00 9.800e-02 2.500e+01 6.700e+01\n",
            "  9.968e-01 3.200e+00 6.800e-01 9.800e+00 5.000e+00]\n",
            " [7.800e+00 7.600e-01 4.000e-02 2.300e+00 9.200e-02 1.500e+01 5.400e+01\n",
            "  9.970e-01 3.260e+00 6.500e-01 9.800e+00 5.000e+00]\n",
            " [1.120e+01 2.800e-01 5.600e-01 1.900e+00 7.500e-02 1.700e+01 6.000e+01\n",
            "  9.980e-01 3.160e+00 5.800e-01 9.800e+00 6.000e+00]]\n",
            "0.0\n",
            "[34. 67. 54. ... 40. 44. 42.]\n",
            "32.88503665178374\n",
            "32.89532447829908\n",
            "1082.1023725325826\n"
          ]
        }
      ]
    },
    {
      "cell_type": "markdown",
      "source": [
        "Time taken by numpy"
      ],
      "metadata": {
        "id": "Gje9x9W8Xn-w"
      }
    },
    {
      "cell_type": "code",
      "source": [
        "import numpy as np\n",
        "import random\n",
        "def recp(c):\n",
        "  out=np.empty(len(c))\n",
        "  for i in range(len(c)):\n",
        "    out[i]= 1.0/c[i]\n",
        "  return out  \n",
        "\n",
        "a=np.random.randint(1,10,5)\n",
        "print(a)\n",
        "print(recp(a))\n",
        "%timeit recp(a)\n",
        "b=np.random.randint(1,100,1000000)\n",
        "print(1.0/b)\n",
        "%timeit recp(b)\n",
        "%timeit (1.0/b)"
      ],
      "metadata": {
        "colab": {
          "base_uri": "https://localhost:8080/"
        },
        "id": "P8o8DXYoVe5X",
        "outputId": "f92040ee-651f-4594-e97f-a30464f7ac41"
      },
      "execution_count": null,
      "outputs": [
        {
          "output_type": "stream",
          "name": "stdout",
          "text": [
            "[4 6 7 1 5]\n",
            "[0.25       0.16666667 0.14285714 1.         0.2       ]\n",
            "The slowest run took 6.39 times longer than the fastest. This could mean that an intermediate result is being cached.\n",
            "100000 loops, best of 5: 11.8 µs per loop\n",
            "[0.01282051 0.02040816 0.01020408 ... 0.05555556 0.02941176 0.02222222]\n",
            "1 loop, best of 5: 2.09 s per loop\n",
            "1000 loops, best of 5: 1.87 ms per loop\n"
          ]
        }
      ]
    },
    {
      "cell_type": "code",
      "source": [
        "import numpy as np\n",
        "import matplotlib.pyplot as mt\n",
        "a=np.array([1,2,3,4,2])\n",
        "mt.hist(a,bins=10)"
      ],
      "metadata": {
        "id": "hAfPniZugQm-",
        "colab": {
          "base_uri": "https://localhost:8080/",
          "height": 317
        },
        "outputId": "ecd7aa3c-ce9a-411c-a7ed-866b9e2f6ac5"
      },
      "execution_count": null,
      "outputs": [
        {
          "output_type": "execute_result",
          "data": {
            "text/plain": [
              "(array([1., 0., 0., 2., 0., 0., 1., 0., 0., 1.]),\n",
              " array([1. , 1.3, 1.6, 1.9, 2.2, 2.5, 2.8, 3.1, 3.4, 3.7, 4. ]),\n",
              " <a list of 10 Patch objects>)"
            ]
          },
          "metadata": {},
          "execution_count": 1
        },
        {
          "output_type": "display_data",
          "data": {
            "text/plain": [
              "<Figure size 432x288 with 1 Axes>"
            ],
            "image/png": "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\n"
          },
          "metadata": {
            "needs_background": "light"
          }
        }
      ]
    },
    {
      "cell_type": "code",
      "source": [
        "from google.colab import files\n",
        "\n",
        "with open('example.txt', 'w') as f:\n",
        "  f.write('some content')\n",
        "\n",
        "files.download('example.txt')"
      ],
      "metadata": {
        "colab": {
          "base_uri": "https://localhost:8080/",
          "height": 17
        },
        "id": "YG2PISpyvoQA",
        "outputId": "4449015c-3731-4461-cded-56c9667d1cf8"
      },
      "execution_count": 10,
      "outputs": [
        {
          "output_type": "display_data",
          "data": {
            "text/plain": [
              "<IPython.core.display.Javascript object>"
            ],
            "application/javascript": [
              "\n",
              "    async function download(id, filename, size) {\n",
              "      if (!google.colab.kernel.accessAllowed) {\n",
              "        return;\n",
              "      }\n",
              "      const div = document.createElement('div');\n",
              "      const label = document.createElement('label');\n",
              "      label.textContent = `Downloading \"${filename}\": `;\n",
              "      div.appendChild(label);\n",
              "      const progress = document.createElement('progress');\n",
              "      progress.max = size;\n",
              "      div.appendChild(progress);\n",
              "      document.body.appendChild(div);\n",
              "\n",
              "      const buffers = [];\n",
              "      let downloaded = 0;\n",
              "\n",
              "      const channel = await google.colab.kernel.comms.open(id);\n",
              "      // Send a message to notify the kernel that we're ready.\n",
              "      channel.send({})\n",
              "\n",
              "      for await (const message of channel.messages) {\n",
              "        // Send a message to notify the kernel that we're ready.\n",
              "        channel.send({})\n",
              "        if (message.buffers) {\n",
              "          for (const buffer of message.buffers) {\n",
              "            buffers.push(buffer);\n",
              "            downloaded += buffer.byteLength;\n",
              "            progress.value = downloaded;\n",
              "          }\n",
              "        }\n",
              "      }\n",
              "      const blob = new Blob(buffers, {type: 'application/binary'});\n",
              "      const a = document.createElement('a');\n",
              "      a.href = window.URL.createObjectURL(blob);\n",
              "      a.download = filename;\n",
              "      div.appendChild(a);\n",
              "      a.click();\n",
              "      div.remove();\n",
              "    }\n",
              "  "
            ]
          },
          "metadata": {}
        },
        {
          "output_type": "display_data",
          "data": {
            "text/plain": [
              "<IPython.core.display.Javascript object>"
            ],
            "application/javascript": [
              "download(\"download_21204ada-61ee-4ddb-82b0-09a8369c53a5\", \"example.txt\", 12)"
            ]
          },
          "metadata": {}
        }
      ]
    }
  ]
}
