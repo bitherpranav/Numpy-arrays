{
  "nbformat": 4,
  "nbformat_minor": 0,
  "metadata": {
    "colab": {
      "name": "NIELIT.ipynb",
      "provenance": [],
      "collapsed_sections": []
    },
    "kernelspec": {
      "name": "python3",
      "display_name": "Python 3"
    },
    "language_info": {
      "name": "python"
    }
  },
  "cells": [
    {
      "cell_type": "markdown",
      "source": [
        "**The BEGINNING:**\n",
        "\n",
        "*   conceived by Guido van Rossum in late 1980s.\n",
        "*   name derived from a bbc comedy series, \"Monty's Flying Python Circus\".\n",
        "*   implementation began in December 1989.\n",
        "\n",
        "\n",
        "---\n",
        "\n",
        "\n",
        "**Features:**\n",
        "\n",
        "*   Portable\n",
        "*   Powerful\n",
        "*   Open source\n",
        "*   easy to learn and use\n",
        "*   mixable\n",
        "*   object-oriented\n",
        "*   beginner friendly\n",
        "*   case sensitive\n",
        "\n",
        "\n",
        "\n",
        "\n",
        "\n",
        "\n",
        "\n",
        "\n",
        "\n",
        "\n",
        "\n"
      ],
      "metadata": {
        "id": "FjkuMIRpPGPe"
      }
    },
    {
      "cell_type": "markdown",
      "source": [
        "Swapping Two numbers"
      ],
      "metadata": {
        "id": "1H_R3hGCVhxo"
      }
    },
    {
      "cell_type": "code",
      "execution_count": null,
      "metadata": {
        "colab": {
          "base_uri": "https://localhost:8080/"
        },
        "id": "v0Swg1mKOx9c",
        "outputId": "f3386546-9be8-4418-fa9c-cfcf6035ff3c"
      },
      "outputs": [
        {
          "output_type": "stream",
          "name": "stdout",
          "text": [
            "enter 1st number:1\n",
            "enter 2nd number:2\n",
            "before swapping numbers are: 1 2\n",
            "after swapping numbers are:  2 1\n"
          ]
        }
      ],
      "source": [
        "x=int(input(\"enter 1st number:\"))\n",
        "y=int(input(\"enter 2nd number:\"))\n",
        "print(\"before swapping numbers are:\",x,y)\n",
        "x,y=y,x\n",
        "print(\"after swapping numbers are: \",x,y)"
      ]
    },
    {
      "cell_type": "markdown",
      "source": [
        "Program to find all the operators"
      ],
      "metadata": {
        "id": "zIcvuSDGP-Gu"
      }
    },
    {
      "cell_type": "code",
      "source": [
        ""
      ],
      "metadata": {
        "id": "RChPuE-zVp3d"
      },
      "execution_count": null,
      "outputs": []
    },
    {
      "cell_type": "code",
      "execution_count": null,
      "metadata": {
        "colab": {
          "base_uri": "https://localhost:8080/"
        },
        "outputId": "1a60f201-598f-440c-9272-a9e573946b5e",
        "id": "AEjvwSUpRRvQ"
      },
      "outputs": [
        {
          "output_type": "stream",
          "name": "stdout",
          "text": [
            "enter 1st number:2\n",
            "enter 2nd number:3\n",
            "select the number corresponding to operator from below that you want to use:\n",
            "1 = +\n",
            "2 = -\n",
            "3 = *\n",
            "4 = **\n",
            "5 = /\n",
            "6 = //\n",
            "7 = %\n",
            "enter the number corresponding to the operator you want:8\n",
            "wrong input\n"
          ]
        }
      ],
      "source": [
        "x=int(input(\"enter 1st number:\"))\n",
        "y=int(input(\"enter 2nd number:\"))\n",
        "print(\"select the number corresponding to operator from below that you want to use:\")\n",
        "print(\"1 = +\")\n",
        "print(\"2 = -\")\n",
        "print(\"3 = *\")\n",
        "print(\"4 = **\")\n",
        "print(\"5 = /\")\n",
        "print(\"6 = //\")\n",
        "print(\"7 = %\")\n",
        "opr=int(input(\"enter the number corresponding to the operator you want:\"))\n",
        "if (opr==1):\n",
        "  print(\"the result for this operator is:\",x+y)\n",
        "elif (opr==2):\n",
        "  print(\"the result for this operator is:\",x-y)\n",
        "elif (opr==3):\n",
        "  print(\"the result for this operator is:\",x*y)\n",
        "elif (opr==4):\n",
        "  print(\"the result for this operator is:\",x**y)\n",
        "elif (opr==5):\n",
        "  print(\"the result for this operator is:\",x/y)\n",
        "elif (opr==6):\n",
        "  print(\"the result for this operator is:\",x//y)\n",
        "elif (opr==7):\n",
        "  print(\"the result for this operator is:\",x%y)      \n",
        "else:\n",
        "  print(\"wrong input\")\n"
      ]
    },
    {
      "cell_type": "markdown",
      "source": [
        "Program to find simple interest"
      ],
      "metadata": {
        "id": "n1QXww7pUl6Y"
      }
    },
    {
      "cell_type": "code",
      "source": [
        "P=int(input(\"enter the principal balance:\"))\n",
        "R=int(input(\"enter the annual interest rate:\"))\n",
        "T=int(input(\"enter the time(in yrs):\"))\n",
        "SI=(P*R*T)/100\n",
        "print(\"Simple interest is:\",SI)"
      ],
      "metadata": {
        "colab": {
          "base_uri": "https://localhost:8080/"
        },
        "id": "aEOrzotSU2Su",
        "outputId": "6947b2c8-7d5f-45eb-8258-578b61783da8"
      },
      "execution_count": null,
      "outputs": [
        {
          "output_type": "stream",
          "name": "stdout",
          "text": [
            "enter the principal balance:100\n",
            "enter the annual interest rate:2\n",
            "enter the time(in yrs):2\n",
            "Simple interest is: 4.0\n"
          ]
        }
      ]
    },
    {
      "cell_type": "markdown",
      "source": [
        "Program to find net salary"
      ],
      "metadata": {
        "id": "ZK9IVchmY6Xm"
      }
    },
    {
      "cell_type": "code",
      "source": [
        "bp=int(input(\"enter the value of bp:\"))\n",
        "hra=(20*bp)/100\n",
        "da=(90*bp)/100\n",
        "pf=(10*bp)/100\n",
        "ns=bp+hra+da-pf\n",
        "print(\"Net salary is \",ns)"
      ],
      "metadata": {
        "colab": {
          "base_uri": "https://localhost:8080/"
        },
        "id": "aCrCnn60Y_jm",
        "outputId": "429fb449-bd8e-44f4-a6e0-4c34c33d3cb1"
      },
      "execution_count": null,
      "outputs": [
        {
          "output_type": "stream",
          "name": "stdout",
          "text": [
            "enter the value of bp:100\n",
            "Net salary is  200.0\n"
          ]
        }
      ]
    },
    {
      "cell_type": "markdown",
      "source": [
        "Program to find discounted price with selling price and discount"
      ],
      "metadata": {
        "id": "NgX55VOIbdA7"
      }
    },
    {
      "cell_type": "code",
      "source": [
        "sp=int(input(\"enter selling price:\"))\n",
        "d=int(input(\"enter discount percentage:\"))\n",
        "dp=sp-(sp*d)/100\n",
        "print(\"The discounted price is:\",dp)"
      ],
      "metadata": {
        "colab": {
          "base_uri": "https://localhost:8080/"
        },
        "id": "mQQ6JrC3bwDE",
        "outputId": "182ff4c0-7ac9-413b-8e43-701671a887a9"
      },
      "execution_count": null,
      "outputs": [
        {
          "output_type": "stream",
          "name": "stdout",
          "text": [
            "enter selling price:50\n",
            "enter discount percentage:2\n",
            "The discounted price is: 49.0\n"
          ]
        }
      ]
    },
    {
      "cell_type": "markdown",
      "source": [
        "Grading"
      ],
      "metadata": {
        "id": "df6x0vKifDZY"
      }
    },
    {
      "cell_type": "code",
      "source": [
        "a=int(input(\"enter score obtained in math:\"))\n",
        "b=int(input(\"enter score obtained in punjabi:\"))\n",
        "c=int(input(\"enter score obtained in sports:\"))\n",
        "per=(a+b+c)/3\n",
        "if(per>80):\n",
        "  print(\"Grade is A\")\n",
        "elif(per>60 and per<=80):\n",
        "  print(\"Grade is B\")\n",
        "elif(per>40 and per<=60):\n",
        "  print(\"Grade is C\")\n",
        "else:\n",
        "  print(\"FAIL!!\")      "
      ],
      "metadata": {
        "colab": {
          "base_uri": "https://localhost:8080/"
        },
        "id": "Ngq80lKsfKH_",
        "outputId": "583f5450-03de-4f75-b138-c4c2d7977e29"
      },
      "execution_count": null,
      "outputs": [
        {
          "output_type": "stream",
          "name": "stdout",
          "text": [
            "enter score obtained in math:60\n",
            "enter score obtained in punjabi:60\n",
            "enter score obtained in sports:60\n",
            "Grade is C\n"
          ]
        }
      ]
    },
    {
      "cell_type": "markdown",
      "source": [
        "Program to check whether armstrong or not"
      ],
      "metadata": {
        "id": "ExPzRaOb9-Qv"
      }
    },
    {
      "cell_type": "code",
      "source": [
        "a=int(input(\"enter the number to check:\"))\n",
        "sum=0\n",
        "temp=a\n",
        "while(temp>0):\n",
        "  digit=temp%10\n",
        "  sum=sum + (digit**3)\n",
        "  temp=temp//10\n",
        "if(sum==a):\n",
        "  print(\"It is an armstrong number\")\n",
        "else:\n",
        "  print(\"Not armstrong\")  "
      ],
      "metadata": {
        "colab": {
          "base_uri": "https://localhost:8080/"
        },
        "id": "MV945mtm-NXi",
        "outputId": "ecd23cd5-734f-4d66-d029-52900af43b93"
      },
      "execution_count": null,
      "outputs": [
        {
          "output_type": "stream",
          "name": "stdout",
          "text": [
            "enter the number to check:407\n",
            "It is an armstrong number\n"
          ]
        }
      ]
    },
    {
      "cell_type": "markdown",
      "source": [
        "Program to find sum of digits of a number"
      ],
      "metadata": {
        "id": "BSmTIGk_Cx6i"
      }
    },
    {
      "cell_type": "code",
      "source": [
        "a=int(input(\"Enter the number:\"))\n",
        "sum=0\n",
        "while(a>0):\n",
        "  digit=a%10\n",
        "  sum+=digit\n",
        "  a=a//10\n",
        "print(\"The sum of digits of the number is:\",sum)  "
      ],
      "metadata": {
        "colab": {
          "base_uri": "https://localhost:8080/"
        },
        "id": "lubm67bqC-7g",
        "outputId": "d4160d97-b635-404a-ced3-08fcc2e8f9ff"
      },
      "execution_count": null,
      "outputs": [
        {
          "output_type": "stream",
          "name": "stdout",
          "text": [
            "Enter the number:123\n",
            "The sum of digits of the number is: 6\n"
          ]
        }
      ]
    },
    {
      "cell_type": "markdown",
      "source": [
        "Program to check whether a number is perfect or not"
      ],
      "metadata": {
        "id": "oalXfglPD5XF"
      }
    },
    {
      "cell_type": "code",
      "source": [
        "a=int(input(\"Enter the number:\"))\n",
        "sum=0\n",
        "for i in range(1,a):\n",
        "  if(a%i==0):\n",
        "    sum+=i\n",
        "if(sum==a):\n",
        "  print(\"Perfect number\")\n",
        "else:\n",
        "  print(\"Not a perfect number\")      "
      ],
      "metadata": {
        "colab": {
          "base_uri": "https://localhost:8080/"
        },
        "id": "rYPxzZU7EMNM",
        "outputId": "6881afd4-6cd0-4348-ba42-b1d959c061dc"
      },
      "execution_count": null,
      "outputs": [
        {
          "output_type": "stream",
          "name": "stdout",
          "text": [
            "Enter the number:28\n",
            "Perfect number\n"
          ]
        }
      ]
    },
    {
      "cell_type": "markdown",
      "source": [
        "Program to find sum of even and odd numbers till 20"
      ],
      "metadata": {
        "id": "QofRGYJcHXBZ"
      }
    },
    {
      "cell_type": "code",
      "source": [
        "a=0\n",
        "b=0\n",
        "for i in range(21):\n",
        "  if(i%2==0):\n",
        "    a+=i\n",
        "  else:\n",
        "    b+=i  \n",
        "print(\"The sum of even numbers till 20 is:\",a)    \n",
        "print(\"The sum of odd numbers till 20 is:\",b)  "
      ],
      "metadata": {
        "colab": {
          "base_uri": "https://localhost:8080/"
        },
        "id": "CBfRlK7NHopJ",
        "outputId": "e803edd2-69fb-44f6-a3e4-f12755195452"
      },
      "execution_count": null,
      "outputs": [
        {
          "output_type": "stream",
          "name": "stdout",
          "text": [
            "The sum of even numbers till 20 is: 110\n",
            "The sum of odd numbers till 20 is: 100\n"
          ]
        }
      ]
    },
    {
      "cell_type": "markdown",
      "source": [
        "Program to read from user till user enters -1 and find the maximum"
      ],
      "metadata": {
        "id": "HlirWe1oImUE"
      }
    },
    {
      "cell_type": "code",
      "source": [
        "b=-200000\n",
        "while(1):\n",
        "  a=int(input(\"Enter the number:\"))\n",
        "  if(a!=-1):\n",
        "    if(a>b):\n",
        "      max=a\n",
        "      b=a\n",
        "  else:\n",
        "    break   \n",
        "print(\"max of above numbers is:\",max)\n",
        "\n"
      ],
      "metadata": {
        "colab": {
          "base_uri": "https://localhost:8080/"
        },
        "id": "hFWdKdB3IvvD",
        "outputId": "bf01fd80-0377-4365-9cb7-9010f99d5fe3"
      },
      "execution_count": null,
      "outputs": [
        {
          "output_type": "stream",
          "name": "stdout",
          "text": [
            "Enter the number:1\n",
            "Enter the number:6\n",
            "Enter the number:-99\n",
            "Enter the number:-1\n",
            "max of above numbers is: 6\n"
          ]
        }
      ]
    },
    {
      "cell_type": "markdown",
      "source": [
        "Program to determine prime number"
      ],
      "metadata": {
        "id": "gaTUY7LCc8ju"
      }
    },
    {
      "cell_type": "code",
      "source": [
        "a=int(input(\"Enter the number:\"))\n",
        "flag=0\n",
        "if(a==0 or a==1):\n",
        "  flag=1;  \n",
        "for i in range(2,a):\n",
        "  if(a%i==0):\n",
        "    flag=1  \n",
        "if(flag==1):\n",
        "  print(\"Not prime\")\n",
        "else:\n",
        "  print(\"Prime\")    "
      ],
      "metadata": {
        "colab": {
          "base_uri": "https://localhost:8080/"
        },
        "id": "pkXMGTrEdBh3",
        "outputId": "51fdf58d-5e22-45ee-e2a3-86790e284886"
      },
      "execution_count": null,
      "outputs": [
        {
          "output_type": "stream",
          "name": "stdout",
          "text": [
            "Enter the number:29\n",
            "Prime\n"
          ]
        }
      ]
    },
    {
      "cell_type": "markdown",
      "source": [
        "Program to find sum of reciprocal of first 100 natural numbers"
      ],
      "metadata": {
        "id": "_E8rSoIY1YqE"
      }
    },
    {
      "cell_type": "code",
      "source": [
        "sum=0\n",
        "for i in range(1,101):\n",
        "  sum+=1/i\n",
        "print(\"The sum of reciprocals of 100 natural numbers:\",sum)  "
      ],
      "metadata": {
        "colab": {
          "base_uri": "https://localhost:8080/"
        },
        "id": "HpPo41hi328H",
        "outputId": "5ffa7972-346b-4d55-ef89-dc8c72110d1c"
      },
      "execution_count": null,
      "outputs": [
        {
          "output_type": "stream",
          "name": "stdout",
          "text": [
            "The sum of reciprocals of 100 natural numbers: 5.187377517639621\n"
          ]
        }
      ]
    },
    {
      "cell_type": "markdown",
      "source": [
        "Read 5 integer inputs from the user and print the sum of only +ve ones"
      ],
      "metadata": {
        "id": "E1XyuSug6Srl"
      }
    },
    {
      "cell_type": "code",
      "source": [
        "sum=0\n",
        "for i in range(5):\n",
        "  a=int(input(\"Enter an integer:\"))\n",
        "  if(a>-1):\n",
        "    sum+=a\n",
        "print(sum)  "
      ],
      "metadata": {
        "colab": {
          "base_uri": "https://localhost:8080/"
        },
        "id": "bZIqo-hU6d2k",
        "outputId": "4a5e1671-774f-440a-b69b-66e69244725c"
      },
      "execution_count": null,
      "outputs": [
        {
          "output_type": "stream",
          "name": "stdout",
          "text": [
            "Enter an integer:-9\n",
            "Enter an integer:-8\n",
            "Enter an integer:6\n",
            "Enter an integer:9\n",
            "Enter an integer:-3\n",
            "15\n"
          ]
        }
      ]
    },
    {
      "cell_type": "markdown",
      "source": [
        "Occurence of character in string"
      ],
      "metadata": {
        "id": "AznL_Bsa8027"
      }
    },
    {
      "cell_type": "code",
      "source": [
        "a=input(\"Enter the string:\")\n",
        "cunt=0\n",
        "for i in range(len(a)):\n",
        "  if((a[i]>=\"a\" and a[i]<=\"z\") or (a[i]>=\"A\" and a[i]<=\"Z\")):\n",
        "    cunt+=1\n",
        "print(\"The number of characters in the string:\",cunt)    "
      ],
      "metadata": {
        "colab": {
          "base_uri": "https://localhost:8080/"
        },
        "id": "JTZLGwfs9o4B",
        "outputId": "e37ad9fd-9258-49ec-d049-22e62b5fe155"
      },
      "execution_count": null,
      "outputs": [
        {
          "output_type": "stream",
          "name": "stdout",
          "text": [
            "Enter the string:PhAkk AfF\n",
            "The number of characters in the string: 8\n"
          ]
        }
      ]
    },
    {
      "cell_type": "markdown",
      "source": [
        "Tables from 2 to 5"
      ],
      "metadata": {
        "id": "98VFsTXxvAQ7"
      }
    },
    {
      "cell_type": "code",
      "source": [
        "for i in range(2,6):\n",
        "  for j in range(1,11):\n",
        "    print(i,\"*\",j,\" = \",i*j)\n",
        "  print(\" \")  "
      ],
      "metadata": {
        "colab": {
          "base_uri": "https://localhost:8080/"
        },
        "id": "DEnBcT8EvDv3",
        "outputId": "d193bbd7-ae29-41a9-d400-39b2e9ca8f50"
      },
      "execution_count": null,
      "outputs": [
        {
          "output_type": "stream",
          "name": "stdout",
          "text": [
            "2 * 1  =  2\n",
            "2 * 2  =  4\n",
            "2 * 3  =  6\n",
            "2 * 4  =  8\n",
            "2 * 5  =  10\n",
            "2 * 6  =  12\n",
            "2 * 7  =  14\n",
            "2 * 8  =  16\n",
            "2 * 9  =  18\n",
            "2 * 10  =  20\n",
            " \n",
            "3 * 1  =  3\n",
            "3 * 2  =  6\n",
            "3 * 3  =  9\n",
            "3 * 4  =  12\n",
            "3 * 5  =  15\n",
            "3 * 6  =  18\n",
            "3 * 7  =  21\n",
            "3 * 8  =  24\n",
            "3 * 9  =  27\n",
            "3 * 10  =  30\n",
            " \n",
            "4 * 1  =  4\n",
            "4 * 2  =  8\n",
            "4 * 3  =  12\n",
            "4 * 4  =  16\n",
            "4 * 5  =  20\n",
            "4 * 6  =  24\n",
            "4 * 7  =  28\n",
            "4 * 8  =  32\n",
            "4 * 9  =  36\n",
            "4 * 10  =  40\n",
            " \n",
            "5 * 1  =  5\n",
            "5 * 2  =  10\n",
            "5 * 3  =  15\n",
            "5 * 4  =  20\n",
            "5 * 5  =  25\n",
            "5 * 6  =  30\n",
            "5 * 7  =  35\n",
            "5 * 8  =  40\n",
            "5 * 9  =  45\n",
            "5 * 10  =  50\n",
            " \n"
          ]
        }
      ]
    },
    {
      "cell_type": "markdown",
      "source": [
        "Program to replace a character in a string with symbol"
      ],
      "metadata": {
        "id": "Piqj4mIl4uq9"
      }
    },
    {
      "cell_type": "code",
      "source": [
        "a=input(\"Enter the string:\")\n",
        "b=input(\"Enter the symbol you wanna replace the character with\")\n",
        "c=input(\"Enter the character:\")\n",
        "d=list(a)\n",
        "for i in range(len(a)):\n",
        "  if(a[i]==c):\n",
        "    d[i]=b\n",
        "e=\"\".join(map(str,d))\n",
        "print(e) \n",
        "\"\"\"s1=input(\"Enter a string: \")\n",
        "char=input(\"Enter the character you want to want to replace: \")\n",
        "smbl=input(\"Enter the symbol you want to put: \")\n",
        "s2=s1.replace(char, smbl)\n",
        "print(s2)\"\"\" "
      ],
      "metadata": {
        "colab": {
          "base_uri": "https://localhost:8080/",
          "height": 122
        },
        "id": "WV64shOb6H8M",
        "outputId": "7f0e6ed5-fcef-4be2-f05d-a79fd5ce08dd"
      },
      "execution_count": null,
      "outputs": [
        {
          "output_type": "stream",
          "name": "stdout",
          "text": [
            "Enter the string:krsna\n",
            "Enter the symbol you wanna replace the character with$\n",
            "Enter the character:s\n",
            "kr$na\n"
          ]
        },
        {
          "output_type": "execute_result",
          "data": {
            "text/plain": [
              "'s1=input(\"Enter a string: \")\\nchar=input(\"Enter the character you want to want to replace: \")\\nsmbl=input(\"Enter the symbol you want to put: \")\\ns2=s1.replace(char, smbl)\\nprint(s2)'"
            ],
            "application/vnd.google.colaboratory.intrinsic+json": {
              "type": "string"
            }
          },
          "metadata": {},
          "execution_count": 1
        }
      ]
    },
    {
      "cell_type": "markdown",
      "source": [
        "check whether a string is palindrome or not"
      ],
      "metadata": {
        "id": "zm4ETnq4Fj1E"
      }
    },
    {
      "cell_type": "code",
      "source": [
        "a=input(\"Enter the string:\")\n",
        "l=len(a)\n",
        "flag=0\n",
        "for i in range(l):\n",
        "  if(a[i]!=a[l-1-i]):\n",
        "    flag=1\n",
        "if(flag==0):\n",
        "  print(\"Palindrome\")\n",
        "else:\n",
        "  print(\"Not palindrome\")  \n",
        "\"\"\"s1=input(\"Enter a string: \")\n",
        "s2=s1[::-1]\n",
        "if s1==s2:\n",
        "  print(\"The string is palindrome\")\n",
        "else:\n",
        "  print(\"The string is not palimdrome\")\"\"\"    "
      ],
      "metadata": {
        "colab": {
          "base_uri": "https://localhost:8080/"
        },
        "id": "QGfhrxqOFqO6",
        "outputId": "76f1235e-94ef-4f5a-ccf5-b12e7201c789"
      },
      "execution_count": null,
      "outputs": [
        {
          "output_type": "stream",
          "name": "stdout",
          "text": [
            "Enter the string:krsna\n",
            "Not palindrome\n"
          ]
        }
      ]
    },
    {
      "cell_type": "markdown",
      "source": [
        "Count alphabets,digits and special characters in a string"
      ],
      "metadata": {
        "id": "EL6kJ0B3jXvj"
      }
    },
    {
      "cell_type": "code",
      "source": [
        "a=0\n",
        "d=0\n",
        "s=0\n",
        "x=input(\"Enter the string:\")\n",
        "for i in range(len(x)):\n",
        "  if(x[i].isalpha()):\n",
        "    a=a+1\n",
        "  elif(x[i].isdigit()):\n",
        "    d=d+1\n",
        "  else:\n",
        "    s=s+1\n",
        "print(\"No. of alphabets in the string are:\",a)     \n",
        "print(\"No. of digits in the string are:\",d) \n",
        "print(\"No. of special char in the string are:\",s)  "
      ],
      "metadata": {
        "colab": {
          "base_uri": "https://localhost:8080/"
        },
        "id": "w_ZA6ADnjeCN",
        "outputId": "f3534890-cd98-401b-bf15-90b084125df2"
      },
      "execution_count": null,
      "outputs": [
        {
          "output_type": "stream",
          "name": "stdout",
          "text": [
            "Enter the string:yaba daba d@#\n",
            "No. of alphabets in the string are: 9\n",
            "No. of digits in the string are: 0\n",
            "No. of special char in the string are: 4\n"
          ]
        }
      ]
    },
    {
      "cell_type": "markdown",
      "source": [
        "Program to input elements in list as per count"
      ],
      "metadata": {
        "id": "LsR7ETmyxcph"
      }
    },
    {
      "cell_type": "code",
      "source": [
        "l=[]\n",
        "count=int(input(\"Enter the no. of elements in the list:\"))\n",
        "for i in range(count):\n",
        "  c=input(\"Enter the element of the list:\")\n",
        "  l.append(c)\n",
        "print(l)  "
      ],
      "metadata": {
        "colab": {
          "base_uri": "https://localhost:8080/"
        },
        "id": "O-JUko_cyRkc",
        "outputId": "47407621-192b-4d7b-b937-90b148324502"
      },
      "execution_count": null,
      "outputs": [
        {
          "output_type": "stream",
          "name": "stdout",
          "text": [
            "Enter the no. of elements in the list:3\n",
            "Enter the element of the list:1\n",
            "Enter the element of the list:hi\n",
            "Enter the element of the list:yoo\n",
            "['1', 'hi', 'yoo']\n"
          ]
        }
      ]
    },
    {
      "cell_type": "markdown",
      "source": [
        ""
      ],
      "metadata": {
        "id": "DWkjyUFKAs76"
      }
    },
    {
      "cell_type": "markdown",
      "source": [
        "find sorted middle element of list"
      ],
      "metadata": {
        "id": "q4W2cyXfBm8b"
      }
    },
    {
      "cell_type": "code",
      "source": [
        "l=[100,475,396,33,36,485]\n",
        "l.sort()\n",
        "print(l)\n",
        "c=len(l)\n",
        "print(l[int(c//2)])"
      ],
      "metadata": {
        "colab": {
          "base_uri": "https://localhost:8080/"
        },
        "id": "kNRYr9bVCTL7",
        "outputId": "30798d0b-0083-4c11-d65a-b162be04ef81"
      },
      "execution_count": null,
      "outputs": [
        {
          "output_type": "stream",
          "name": "stdout",
          "text": [
            "[33, 36, 100, 396, 475, 485]\n",
            "396\n"
          ]
        }
      ]
    },
    {
      "cell_type": "markdown",
      "source": [
        "count number of words in a line"
      ],
      "metadata": {
        "id": "EeHsmk_WO7yx"
      }
    },
    {
      "cell_type": "code",
      "source": [
        "a=input(\"enter the string:\")\n",
        "b=a.split()\n",
        "c=len(b)\n",
        "print(b)\n",
        "print(\"the no. of words in the string are:\",c)    "
      ],
      "metadata": {
        "colab": {
          "base_uri": "https://localhost:8080/"
        },
        "id": "-bWpTBzmO_yJ",
        "outputId": "a617eb7a-1637-4c16-92fb-7c8516bbbfe5"
      },
      "execution_count": null,
      "outputs": [
        {
          "output_type": "stream",
          "name": "stdout",
          "text": [
            "enter the string:abc def\n",
            "['abc', 'def']\n",
            "the no. of words in the string are: 2\n"
          ]
        }
      ]
    },
    {
      "cell_type": "markdown",
      "source": [
        "Just some workkk"
      ],
      "metadata": {
        "id": "DqyC_RMyxhnA"
      }
    },
    {
      "cell_type": "code",
      "source": [
        "str=\"punjabi university patiala\"\n",
        "print(str.capitalize())\n",
        "print(str)\n",
        "print(str.upper())\n",
        "print(str.lower())\n",
        "print(\"rcc\".upper())\n",
        "print(\"PATIALA\".lower())\n",
        "print(str.isupper())\n",
        "print(str.islower())\n",
        "print(str.isalpha())\n",
        "print(str.isalnum()) #true if the string is either alphabet or num or both but not special char\n",
        "print(\"1234\".isalnum())\n",
        "print(\"Rcc123\".isalnum())\n",
        "print(\"Rcc@123\".isalnum())\n",
        "print(\"thomas shelby\".isalnum())\n",
        "print(\"thomasshelby\".isalnum())\n",
        "print('123'.isdigit())"
      ],
      "metadata": {
        "colab": {
          "base_uri": "https://localhost:8080/"
        },
        "id": "Grtc2C_cxl08",
        "outputId": "164e3b9a-1cee-475a-c12b-33ae76da9a30"
      },
      "execution_count": null,
      "outputs": [
        {
          "output_type": "stream",
          "name": "stdout",
          "text": [
            "Punjabi university patiala\n",
            "punjabi university patiala\n",
            "PUNJABI UNIVERSITY PATIALA\n",
            "punjabi university patiala\n",
            "RCC\n",
            "patiala\n",
            "False\n",
            "True\n",
            "False\n",
            "False\n",
            "True\n",
            "True\n",
            "False\n",
            "False\n",
            "True\n",
            "True\n"
          ]
        }
      ]
    },
    {
      "cell_type": "code",
      "source": [
        "title=\"Python Programming Is Fun.\"\n",
        "print(title.casefold()) #convert the string to lower case\n",
        "print(title.count('m')) #counts number of a letter\n",
        "print(title.find('y'))\n",
        "print(title.find('C'))\n",
        "print(title.endswith('Fun.'))\n"
      ],
      "metadata": {
        "colab": {
          "base_uri": "https://localhost:8080/"
        },
        "id": "4md4f89pyEoE",
        "outputId": "5bcfa117-008f-4e6b-896e-67b7094a56f8"
      },
      "execution_count": null,
      "outputs": [
        {
          "output_type": "stream",
          "name": "stdout",
          "text": [
            "python programming is fun.\n",
            "2\n",
            "1\n",
            "-1\n",
            "True\n"
          ]
        }
      ]
    },
    {
      "cell_type": "code",
      "source": [
        "s=\"    R   C   C        \"\n",
        "print(\"original length\", len(s))\n",
        "s1=s.lstrip()\n",
        "print(s1)\n",
        "print(\"left strip\", len(s1))\n",
        "s2=s.rstrip()\n",
        "print(s2)\n",
        "print(\"right strip\", len(s2))\n",
        "\n",
        "\n",
        "print(\" \".isspace())\n",
        "print(\"This Is Rcc\".istitle())"
      ],
      "metadata": {
        "colab": {
          "base_uri": "https://localhost:8080/"
        },
        "id": "Bs7rgsf0zm9H",
        "outputId": "9ff00f6b-27d9-4432-b404-97a067cc9096"
      },
      "execution_count": null,
      "outputs": [
        {
          "output_type": "stream",
          "name": "stdout",
          "text": [
            "original length 21\n",
            "R   C   C        \n",
            "left strip 17\n",
            "    R   C   C\n",
            "right strip 13\n",
            "True\n",
            "True\n"
          ]
        }
      ]
    },
    {
      "cell_type": "code",
      "source": [
        "#string join\n",
        "s=\"CHD\"\n",
        "s1=(\"NIELIT\", \"Ropar\")\n",
        "s2=\"Chandigarh\"\n",
        "s3=\" \"\n",
        "print(s3.join(s1))\n",
        "print(s+s2)\n",
        "\n",
        "#swap case\n",
        "s=\"COMPUTER network\"\n",
        "print(s.swapcase())"
      ],
      "metadata": {
        "colab": {
          "base_uri": "https://localhost:8080/"
        },
        "id": "Ixz_CsCe0XxV",
        "outputId": "fc076340-db04-4ede-fa7e-c335447cc856"
      },
      "execution_count": null,
      "outputs": [
        {
          "output_type": "stream",
          "name": "stdout",
          "text": [
            "NIELIT Ropar\n",
            "CHDChandigarh\n",
            "computer NETWORK\n"
          ]
        }
      ]
    },
    {
      "cell_type": "code",
      "source": [
        "# List declaration\n",
        "l=[12,65,78,9,2,3,45,9,11]\n",
        "print(l)\n",
        "print(sum(l))\n",
        "\n",
        "city=[\"chd\",\"pat\",\"rj\",\"berlin\"]\n",
        "states=['punjab','uttrakhand','maharashtra']\n",
        "etc=[12,69,'pb',\"fazilka\",'''ok''']\n",
        "empty=[]\n",
        "nested=[1,2,3,4,\"zzZ\",'Zzz',[2,3,4],['e','f',2,[3,4,5]]]\n"
      ],
      "metadata": {
        "colab": {
          "base_uri": "https://localhost:8080/"
        },
        "id": "zWG8avQn1iDE",
        "outputId": "72412eba-d29d-48c5-aee5-a4ea41f61424"
      },
      "execution_count": null,
      "outputs": [
        {
          "output_type": "stream",
          "name": "stdout",
          "text": [
            "[12, 65, 78, 9, 2, 3, 45, 9, 11]\n",
            "234\n"
          ]
        }
      ]
    },
    {
      "cell_type": "code",
      "source": [
        "# ACCESSING LIST\n",
        "fruits=['apple','banana','orange','cherry','mehnat ka']\n",
        "print(fruits[1])\n",
        "print(fruits[4])"
      ],
      "metadata": {
        "colab": {
          "base_uri": "https://localhost:8080/"
        },
        "id": "K9tAp6fr1nHX",
        "outputId": "03b21d74-a408-4d98-cf81-daf40636a0ac"
      },
      "execution_count": null,
      "outputs": [
        {
          "output_type": "stream",
          "name": "stdout",
          "text": [
            "banana\n",
            "mehnat ka\n"
          ]
        }
      ]
    },
    {
      "cell_type": "markdown",
      "source": [
        "add (x,y) in a list if x in ls1 is sq of ls2"
      ],
      "metadata": {
        "id": "5lKi8T7BGC-3"
      }
    },
    {
      "cell_type": "code",
      "source": [
        "lst=[]\n",
        "lst1=[3,5,7,2,4]\n",
        "lst2=[4,6,9,49]\n",
        "lst=[ (x,y)  for x in lst1 for y in lst2 if x*x ==y]\n",
        "print(lst)"
      ],
      "metadata": {
        "id": "jJRA06xcGR0R"
      },
      "execution_count": null,
      "outputs": []
    },
    {
      "cell_type": "code",
      "source": [
        "\"\"\"fruits=['apple','banana',\"cherry\",\"sabar ka\",\"mehnat ka\",'mango','coconut','seb',]\n",
        "newlist=[]\n",
        "for x in fruits:\n",
        "  if \"a\" in x:\n",
        "    newlist.append(x)\n",
        "print(newlist)\"\"\"\n",
        "#WRITE THE ABOVE EXAMPLE IN LIST COMPREHENSION CODE\n",
        "\n",
        "fruits=['apple','banana',\"cherry\",\"sabar ka\",\"mehnat ka\",'mango','coconut','seb',]\n",
        "newlist=[x for x in fruits if 'a' in x]\n",
        "print(newlist)"
      ],
      "metadata": {
        "id": "UB_MZar4Ihvt"
      },
      "execution_count": null,
      "outputs": []
    },
    {
      "cell_type": "markdown",
      "source": [
        "some work...."
      ],
      "metadata": {
        "id": "UcsAwXBsx98o"
      }
    },
    {
      "cell_type": "code",
      "source": [
        "v1=[1,2,3]\n",
        "v2=[4,5,6]\n",
        "v3=[x*y for x in v1 for y in v2]\n",
        "print(v3)"
      ],
      "metadata": {
        "colab": {
          "base_uri": "https://localhost:8080/"
        },
        "id": "v4c0NnN8yAbC",
        "outputId": "29d247da-d466-4b56-df75-9f8a492735bf"
      },
      "execution_count": null,
      "outputs": [
        {
          "output_type": "stream",
          "name": "stdout",
          "text": [
            "[4, 5, 6, 8, 10, 12, 12, 15, 18]\n"
          ]
        }
      ]
    },
    {
      "cell_type": "code",
      "source": [
        "v3=[v1[i]*v2[i] for i in range(len(v1))]\n",
        "print(v3)"
      ],
      "metadata": {
        "colab": {
          "base_uri": "https://localhost:8080/"
        },
        "id": "L8voEfl-zIRV",
        "outputId": "bba4d928-400f-46b1-b252-4791e6e19554"
      },
      "execution_count": null,
      "outputs": [
        {
          "output_type": "stream",
          "name": "stdout",
          "text": [
            "[4, 10, 18]\n"
          ]
        }
      ]
    },
    {
      "cell_type": "code",
      "source": [
        "vehicle=[\"train\",\"car\",\"jeep\",\"bus\",\"scooter\"]\n",
        "vehicle.sort()\n",
        "print(vehicle)\n",
        "del vehicle[1]\n",
        "print(\"after deleting element 2\")\n",
        "print(vehicle)"
      ],
      "metadata": {
        "colab": {
          "base_uri": "https://localhost:8080/"
        },
        "id": "ddbuM5X9zo5j",
        "outputId": "9cffec3c-19a7-44ec-9021-cd0376bf2bfc"
      },
      "execution_count": null,
      "outputs": [
        {
          "output_type": "stream",
          "name": "stdout",
          "text": [
            "['bus', 'car', 'jeep', 'scooter', 'train']\n",
            "after deleting element 2\n",
            "['bus', 'jeep', 'scooter', 'train']\n"
          ]
        }
      ]
    },
    {
      "cell_type": "code",
      "source": [
        "BB=[\"jesse\",\"heisenberg\",\"tuco\",\"saul\"]\n",
        "l=BB\n",
        "print(l)\n",
        "l.append(\"gus\")\n",
        "print(l)\n",
        "print(BB)"
      ],
      "metadata": {
        "colab": {
          "base_uri": "https://localhost:8080/"
        },
        "id": "MepoDA_W04AP",
        "outputId": "cf56c3cb-7b84-434f-ee1c-20eb27425d52"
      },
      "execution_count": null,
      "outputs": [
        {
          "output_type": "stream",
          "name": "stdout",
          "text": [
            "['jesse', 'heisenberg', 'tuco', 'saul']\n",
            "['jesse', 'heisenberg', 'tuco', 'saul', 'gus']\n",
            "['jesse', 'heisenberg', 'tuco', 'saul', 'gus']\n"
          ]
        }
      ]
    },
    {
      "cell_type": "code",
      "source": [
        "BB=[\"jesse\",\"heisenberg\",\"tuco\",\"saul\"]\n",
        "l=BB\n",
        "del BB[2]\n",
        "print(BB)\n",
        "print(l)\n",
        "copyBB=BB[:]\n",
        "del copyBB[2]\n",
        "print(copyBB)\n",
        "print(BB)\n"
      ],
      "metadata": {
        "colab": {
          "base_uri": "https://localhost:8080/"
        },
        "id": "o9Zo9CR72cuu",
        "outputId": "e022f6b2-cce5-4bf3-ef12-8a26e270b180"
      },
      "execution_count": null,
      "outputs": [
        {
          "output_type": "stream",
          "name": "stdout",
          "text": [
            "['jesse', 'heisenberg', 'saul']\n",
            "['jesse', 'heisenberg', 'saul']\n",
            "['jesse', 'heisenberg']\n",
            "['jesse', 'heisenberg', 'saul']\n"
          ]
        }
      ]
    },
    {
      "cell_type": "code",
      "source": [
        "indoor=['badminton','table-tennis','carrom']\n",
        "outdoor=['football','cricket']\n",
        "games=(indoor,outdoor)\n",
        "ss=('indoor','outdoor')\n",
        "print(ss)\n",
        "print(games)\n",
        "print(games[0])"
      ],
      "metadata": {
        "colab": {
          "base_uri": "https://localhost:8080/"
        },
        "id": "aO7MLBCT5rN7",
        "outputId": "1f42c526-1116-40ad-abdd-6dcd417db760"
      },
      "execution_count": null,
      "outputs": [
        {
          "output_type": "stream",
          "name": "stdout",
          "text": [
            "('indoor', 'outdoor')\n",
            "(['badminton', 'table-tennis', 'carrom'], ['football', 'cricket'])\n",
            "['badminton', 'table-tennis', 'carrom']\n"
          ]
        }
      ]
    },
    {
      "cell_type": "code",
      "source": [
        "games1=(['badminton','table-tennis','carrom'],['football','cricket'],['solitaire','hearts','freecell'])\n",
        "print(games1)"
      ],
      "metadata": {
        "id": "v_jSx8oW56P9"
      },
      "execution_count": null,
      "outputs": []
    },
    {
      "cell_type": "code",
      "source": [
        "outdoor[0]='hockey' #lists are mutable\n",
        "print(outdoor)"
      ],
      "metadata": {
        "id": "sH6zaZy66kPD"
      },
      "execution_count": null,
      "outputs": []
    },
    {
      "cell_type": "code",
      "source": [
        "print(games)\n",
        "games1[1][0]='hockey'\n",
        "print(games1)\n",
        "print(games1[:2]==games)\n",
        "print(games)"
      ],
      "metadata": {
        "id": "7MirCx0L6nIh"
      },
      "execution_count": null,
      "outputs": []
    },
    {
      "cell_type": "code",
      "source": [
        "t=(1,\"2\",[1,2])\n",
        "print(t[:2])"
      ],
      "metadata": {
        "colab": {
          "base_uri": "https://localhost:8080/"
        },
        "id": "IoTNPNPR6wDw",
        "outputId": "b96407af-3617-47f7-b6a9-17620775e57d"
      },
      "execution_count": null,
      "outputs": [
        {
          "output_type": "stream",
          "name": "stdout",
          "text": [
            "(1, '2')\n"
          ]
        }
      ]
    },
    {
      "cell_type": "markdown",
      "source": [
        "reverse a number"
      ],
      "metadata": {
        "id": "bbuazYA4Se_x"
      }
    },
    {
      "cell_type": "code",
      "source": [
        "a=input(\"Enter the number:\")\n",
        "def rev(c):\n",
        "  return(c[::-1])\n",
        "print(\"reverse of the number is:\",rev(a))\n",
        "#    ALTERNATE METHOD\n",
        "# num = 1234\n",
        "# reversed_num = 0\n",
        "\n",
        "# while num != 0:\n",
        "#     digit = num % 10\n",
        "#     reversed_num = reversed_num * 10 + digit\n",
        "#     num //= 10\n",
        "\n",
        "# print(\"Reversed Number: \" + str(reversed_num))"
      ],
      "metadata": {
        "colab": {
          "base_uri": "https://localhost:8080/"
        },
        "id": "gGtArB8DTSTu",
        "outputId": "185a560d-13d6-4dc7-c3d1-190446e4d368"
      },
      "execution_count": null,
      "outputs": [
        {
          "output_type": "stream",
          "name": "stdout",
          "text": [
            "Enter the number:1233\n",
            "reverse of the number is: 3321\n"
          ]
        }
      ]
    },
    {
      "cell_type": "markdown",
      "source": [
        "input string and count upper and lower case letter"
      ],
      "metadata": {
        "id": "Gyb46sRdwJLF"
      }
    },
    {
      "cell_type": "code",
      "source": [
        "def fun(a):\n",
        "  u=0\n",
        "  l=0\n",
        "  for i in range(len(a)):\n",
        "    if(a[i].isupper()):\n",
        "      u=u+1\n",
        "    elif(a[i].islower()):\n",
        "      l=l+1\n",
        "    else:\n",
        "      continue  \n",
        "  print(\"number of upper case letter are:\",u)     \n",
        "  print(\"number of lower case letter are:\",l)      \n",
        "c=input(\"enter the string:\")\n",
        "fun(c)       "
      ],
      "metadata": {
        "colab": {
          "base_uri": "https://localhost:8080/"
        },
        "id": "wcmKcHJMwOEq",
        "outputId": "e80a044c-412d-4b29-d871-f7a259781a55"
      },
      "execution_count": null,
      "outputs": [
        {
          "output_type": "stream",
          "name": "stdout",
          "text": [
            "enter the string:AbCdE\n",
            "number of upper case letter are: 3\n",
            "number of lower case letter are: 2\n"
          ]
        }
      ]
    },
    {
      "cell_type": "markdown",
      "source": [
        "Pramctice"
      ],
      "metadata": {
        "id": "vqKSFjO4bySv"
      }
    },
    {
      "cell_type": "code",
      "source": [
        "#declaring dictionaries\n",
        "d={}\n",
        "d[1]='patiala'\n",
        "d[2]='delhi'\n",
        "d[3]='fazilka'\n",
        "d[4]='sirhind'\n",
        "d[5]='bombay'\n",
        "print(d)"
      ],
      "metadata": {
        "id": "qvxsjIirb7B6"
      },
      "execution_count": null,
      "outputs": []
    },
    {
      "cell_type": "code",
      "source": [
        "d={'name':\"A\",'college':\"B\",'lname':\"C\"}\n",
        "print(d)\n",
        "d['fname']='D'\n",
        "print(d)\n",
        "d.update({\"fname\":'E',\"lname\":\"G\"})\n",
        "print(d)\n",
        "d['name']='F'       #this\n",
        "print(d)\n",
        "d.update({'name':'f'}) #and this are quite same\n",
        "print(d)"
      ],
      "metadata": {
        "colab": {
          "base_uri": "https://localhost:8080/"
        },
        "id": "0QSexrj3cRLX",
        "outputId": "cef2390b-4390-4e9d-851c-9d132237eed3"
      },
      "execution_count": null,
      "outputs": [
        {
          "output_type": "stream",
          "name": "stdout",
          "text": [
            "{'name': 'A', 'college': 'B', 'lname': 'C'}\n",
            "{'name': 'A', 'college': 'B', 'lname': 'C', 'fname': 'D'}\n",
            "{'name': 'A', 'college': 'B', 'lname': 'G', 'fname': 'E'}\n",
            "{'name': 'F', 'college': 'B', 'lname': 'G', 'fname': 'E'}\n",
            "{'name': 'f', 'college': 'B', 'lname': 'G', 'fname': 'E'}\n"
          ]
        }
      ]
    },
    {
      "cell_type": "code",
      "source": [
        "d={1:'aa',2:'bb',3:'cc'}\n",
        "print(d)\n",
        "print(len(d))\n",
        "print(d.get(5)) #it will get the element value\n",
        "print(d.get(3))\n",
        "d.pop(3) #will pop/remove the mentioned item\n",
        "print(d)\n",
        "print(d.keys())\n",
        "print(d.values())\n",
        "print(d.items())"
      ],
      "metadata": {
        "id": "NnPqNfAVjdH3",
        "colab": {
          "base_uri": "https://localhost:8080/"
        },
        "outputId": "9b60eb1c-60c9-4c7b-d118-1f4e5705a05c"
      },
      "execution_count": null,
      "outputs": [
        {
          "output_type": "stream",
          "name": "stdout",
          "text": [
            "{1: 'aa', 2: 'bb', 3: 'cc'}\n",
            "3\n",
            "None\n",
            "cc\n",
            "{1: 'aa', 2: 'bb'}\n",
            "dict_keys([1, 2])\n",
            "dict_values(['aa', 'bb'])\n",
            "dict_items([(1, 'aa'), (2, 'bb')])\n"
          ]
        }
      ]
    },
    {
      "cell_type": "code",
      "source": [
        "#using loop to traverse a dictionary\n",
        "d={1:'hitesh',2:'parnav',3:'bither',6:'haider',9:'vasudev'}\n",
        "for i in d:\n",
        "  print(i) #print keys\n",
        "  print(d[i])\n",
        "\n",
        "print(end='\\n')\n",
        "print('\\n')\n",
        "#another way\n",
        "for a,b in d.items():\n",
        "  print(a,b)\n",
        "\n",
        "print(end='\\n')\n",
        "print('\\n')\n",
        "\n",
        "for i in d:\n",
        "  print(i,\":\",d[i])"
      ],
      "metadata": {
        "id": "Zd_bwAg3lsGU",
        "colab": {
          "base_uri": "https://localhost:8080/"
        },
        "outputId": "93790698-f9b1-49fe-b6de-750f2a641f3b"
      },
      "execution_count": null,
      "outputs": [
        {
          "output_type": "stream",
          "name": "stdout",
          "text": [
            "1\n",
            "hitesh\n",
            "2\n",
            "parnav\n",
            "3\n",
            "bither\n",
            "6\n",
            "haider\n",
            "9\n",
            "vasudev\n",
            "\n",
            "\n",
            "\n",
            "1 hitesh\n",
            "2 parnav\n",
            "3 bither\n",
            "6 haider\n",
            "9 vasudev\n",
            "\n",
            "\n",
            "\n",
            "1 : hitesh\n",
            "2 : parnav\n",
            "3 : bither\n",
            "6 : haider\n",
            "9 : vasudev\n"
          ]
        }
      ]
    },
    {
      "cell_type": "markdown",
      "source": [
        "Functions"
      ],
      "metadata": {
        "id": "1GN7R5EFSQhz"
      }
    },
    {
      "cell_type": "code",
      "source": [
        "# functioon to calculate factorial of a number\n",
        "def factorial(num):\n",
        "  f=1\n",
        "  # for i in range(1,num+1):\n",
        "  for i in range(num,0,-1):\n",
        "    f=f*i\n",
        "  print(f)\n",
        "\n",
        "factorial(5)"
      ],
      "metadata": {
        "colab": {
          "base_uri": "https://localhost:8080/"
        },
        "id": "cQD5agYBSSGY",
        "outputId": "85e0cc4a-dcb1-4992-87ed-a25e87244072"
      },
      "execution_count": null,
      "outputs": [
        {
          "output_type": "stream",
          "name": "stdout",
          "text": [
            "120\n"
          ]
        }
      ]
    },
    {
      "cell_type": "code",
      "source": [
        "#scope of variable\n",
        "x=5\n",
        "def print_num(number):\n",
        "  x=3\n",
        "  print('number = ',number)\n",
        "  print('inside x = ',x)\n",
        "  return number\n",
        "\n",
        "print('outside x = ',x)\n",
        "print_num(4)\n",
        "print('outside again x = ',x)"
      ],
      "metadata": {
        "colab": {
          "base_uri": "https://localhost:8080/"
        },
        "id": "ytLpkk0FTQQx",
        "outputId": "351812c3-dd9e-48a1-ade8-90b54b32114e"
      },
      "execution_count": null,
      "outputs": [
        {
          "output_type": "stream",
          "name": "stdout",
          "text": [
            "outside x =  5\n",
            "number =  4\n",
            "inside x =  3\n",
            "outside again x =  5\n"
          ]
        }
      ]
    },
    {
      "cell_type": "code",
      "source": [
        "PI=3.14\n",
        "def perimeter(r):\n",
        "  return 2*PI*r\n",
        "\n",
        "def area(r):\n",
        "  return PI*r*r\n",
        "\n",
        "def update_pi(newpi):\n",
        "  global PI\n",
        "  PI= newpi\n",
        "\n",
        "print(PI)\n",
        "print(area(100))\n",
        "print(perimeter(10))\n",
        "update_pi(3.14159)\n",
        "print(PI)\n",
        "print(area(100))\n",
        "print(perimeter(10))"
      ],
      "metadata": {
        "colab": {
          "base_uri": "https://localhost:8080/"
        },
        "id": "AqkquhaNTzo-",
        "outputId": "2d399e4f-b76f-4e81-ca1e-e14087ab24a5"
      },
      "execution_count": null,
      "outputs": [
        {
          "output_type": "stream",
          "name": "stdout",
          "text": [
            "3.14\n",
            "31400.0\n",
            "62.800000000000004\n",
            "3.14159\n",
            "31415.899999999998\n",
            "62.8318\n"
          ]
        }
      ]
    },
    {
      "cell_type": "code",
      "source": [
        "PI=3.14\n",
        "def perimeter(r):\n",
        "  return 2*PI*r\n",
        "\n",
        "def area(r):\n",
        "  return PI*r*r\n",
        "\n",
        "def update_pi():\n",
        "  # global PI\n",
        "  PI= 3.14159\n",
        "  print('local pi =',PI)\n",
        "\n",
        "\n",
        "print(\"global pi =\",PI)\n",
        "print(area(100))\n",
        "print(perimeter(10))\n",
        "update_pi()\n",
        "print(PI) #this will print global pi too and not local pi\n",
        "print(area(100))\n",
        "print(perimeter(10))"
      ],
      "metadata": {
        "colab": {
          "base_uri": "https://localhost:8080/"
        },
        "id": "UVLK128TU0qS",
        "outputId": "82a88761-79bf-4f82-c2e7-a17b7a049bea"
      },
      "execution_count": null,
      "outputs": [
        {
          "output_type": "stream",
          "name": "stdout",
          "text": [
            "global pi = 3.14\n",
            "31400.0\n",
            "62.800000000000004\n",
            "local pi = 3.14159\n",
            "3.14\n",
            "31400.0\n",
            "62.800000000000004\n"
          ]
        }
      ]
    },
    {
      "cell_type": "code",
      "source": [
        "# finding factorial using recursion\n",
        "\n",
        "def factorial(n):\n",
        "  if(n==0 or n==1):\n",
        "    return(1)\n",
        "  return n*factorial(n-1) \n",
        "  print('doia[')   \n",
        "                  #once a return statement is executed rest of the funtion won't execute\n",
        "\n",
        "\n",
        "num=int(input(\"Enter a number = \"))\n",
        "if(num<0):\n",
        "  print(\"factorial does not exist for -ve numbers\")\n",
        "else:\n",
        "  print(\"the factorial of\",num,\"is\",factorial(num))"
      ],
      "metadata": {
        "colab": {
          "base_uri": "https://localhost:8080/"
        },
        "id": "0gDSYnOuVoKY",
        "outputId": "2236e544-2ab1-43e5-d909-28394ff9da5e"
      },
      "execution_count": null,
      "outputs": [
        {
          "output_type": "stream",
          "name": "stdout",
          "text": [
            "Enter a number = 0\n",
            "the factorial of 0 is 1\n"
          ]
        }
      ]
    },
    {
      "cell_type": "markdown",
      "source": [
        "DOCSTRING"
      ],
      "metadata": {
        "id": "LvT1DB2Cg648"
      }
    },
    {
      "cell_type": "code",
      "source": [
        "#docstring\n",
        "def printdocstr():\n",
        "  \"\"\"\n",
        "  This function is doing nothing, except printing a message.\n",
        "  That message is 'Hello'.\n",
        "\n",
        "  \"\"\"\n",
        "print(\"using __doc__ :\")\n",
        "print(printdocstr.__doc__)\n",
        "print(\"using help:\")\n",
        "help(printdocstr) #help function"
      ],
      "metadata": {
        "colab": {
          "base_uri": "https://localhost:8080/"
        },
        "id": "8RV7IGfAg89X",
        "outputId": "26785580-6c7f-40b1-e464-b3776e370acb"
      },
      "execution_count": null,
      "outputs": [
        {
          "output_type": "stream",
          "name": "stdout",
          "text": [
            "using __doc__ :\n",
            "\n",
            "  This function is doing nothing, except printing a message.\n",
            "  That message is 'Hello'.\n",
            "\n",
            "  \n",
            "using help:\n",
            "Help on function printdocstr in module __main__:\n",
            "\n",
            "printdocstr()\n",
            "    This function is doing nothing, except printing a message.\n",
            "    That message is 'Hello'.\n",
            "\n"
          ]
        }
      ]
    },
    {
      "cell_type": "markdown",
      "source": [
        "Lambda Function"
      ],
      "metadata": {
        "id": "FnGeFJidiHpj"
      }
    },
    {
      "cell_type": "code",
      "source": [
        "'''\n",
        "Lambda function: Lambda Keyword is used to create small Anonymous function. \n",
        "These function are called anonymous because they are not declared as standard function.\n",
        "Lamda forms can take any number of arguments but return one value.\n",
        "They cannot contain commands or multiple expressions. \n",
        "syntax: lambda[arg1 [arg2,.....]]:expression.\n",
        "'''\n",
        "#function definition:\n",
        "sum = lambda arg1, arg2: arg1 + arg2\n",
        "\n",
        "#call sum function:\n",
        "print(\"value of total is:\", sum(10,30))"
      ],
      "metadata": {
        "colab": {
          "base_uri": "https://localhost:8080/"
        },
        "id": "RPVIn5JziMwW",
        "outputId": "1d9feeed-d394-4c4f-babc-28db72b08967"
      },
      "execution_count": null,
      "outputs": [
        {
          "output_type": "stream",
          "name": "stdout",
          "text": [
            "value of total is: 40\n"
          ]
        }
      ]
    },
    {
      "cell_type": "code",
      "source": [
        "# Variable length argument:\n",
        "def message(*var):\n",
        "  print(type(var))\n",
        "  print(var)\n",
        "  for i in var:\n",
        "    print(i)\n",
        "message(1, 2, 4, 5, 6, 'string')"
      ],
      "metadata": {
        "colab": {
          "base_uri": "https://localhost:8080/"
        },
        "id": "RamhTgHUpCOZ",
        "outputId": "ab2ada28-cfac-4994-f954-cfe9f7edeccc"
      },
      "execution_count": null,
      "outputs": [
        {
          "output_type": "stream",
          "name": "stdout",
          "text": [
            "<class 'tuple'>\n",
            "(1, 2, 4, 5, 6, 'string')\n",
            "1\n",
            "2\n",
            "4\n",
            "5\n",
            "6\n",
            "string\n"
          ]
        }
      ]
    },
    {
      "cell_type": "code",
      "source": [
        "def myAddUniversal (*args):\n",
        "  s = 0 \n",
        "  for i in args: \n",
        "    s +=i # s = s+args[i]\n",
        "  return s\n",
        "\n",
        "print(myAddUniversal (2,4,5,4.6,78))"
      ],
      "metadata": {
        "colab": {
          "base_uri": "https://localhost:8080/"
        },
        "id": "GEfAUJyspEiv",
        "outputId": "c4269755-129e-4f36-899c-70839010096e"
      },
      "execution_count": null,
      "outputs": [
        {
          "output_type": "stream",
          "name": "stdout",
          "text": [
            "93.6\n"
          ]
        }
      ]
    },
    {
      "cell_type": "code",
      "source": [
        "def printAllVariableNamesAndValues (**args): \n",
        "  print(args)\n",
        "  for x in args:\n",
        "    print(\"Variable Name is :\",x,\" And Value is :\", args[x])\n",
        "\n",
        "printAllVariableNamesAndValues(a = 3,b=\"B\",c=\"CCC\",y=6.7)"
      ],
      "metadata": {
        "colab": {
          "base_uri": "https://localhost:8080/"
        },
        "id": "TC_BLAKgpKo9",
        "outputId": "2e690842-a18e-4524-cd33-2770e31957af"
      },
      "execution_count": null,
      "outputs": [
        {
          "output_type": "stream",
          "name": "stdout",
          "text": [
            "{'a': 3, 'b': 'B', 'c': 'CCC', 'y': 6.7}\n",
            "Variable Name is : a  And Value is : 3\n",
            "Variable Name is : b  And Value is : B\n",
            "Variable Name is : c  And Value is : CCC\n",
            "Variable Name is : y  And Value is : 6.7\n"
          ]
        }
      ]
    },
    {
      "cell_type": "markdown",
      "source": [
        "WEEK 3 BRUHHHHHH"
      ],
      "metadata": {
        "id": "5EZ5vqLiEVZy"
      }
    },
    {
      "cell_type": "code",
      "source": [
        "import numpy as np\n",
        "print(np.__version__)\n",
        "a=np.array([1,2,3],dtype=\"float\")\n",
        "b=np.array([1,2,3],dtype=\"float\")\n",
        "print(a+b)"
      ],
      "metadata": {
        "colab": {
          "base_uri": "https://localhost:8080/"
        },
        "id": "uDfltv5QEX7f",
        "outputId": "fbd78b4c-940c-48a5-ddb9-484b059395c1"
      },
      "execution_count": null,
      "outputs": [
        {
          "output_type": "stream",
          "name": "stdout",
          "text": [
            "1.21.6\n",
            "[2. 4. 6.]\n"
          ]
        }
      ]
    },
    {
      "cell_type": "code",
      "source": [
        "import numpy as np\n",
        "c=np.array([[1,2,3],[1,2,3]])\n",
        "print(c)"
      ],
      "metadata": {
        "colab": {
          "base_uri": "https://localhost:8080/"
        },
        "id": "YwkK6q1vH8JU",
        "outputId": "77140bde-bf9d-4be4-c76b-1778fb67d43c"
      },
      "execution_count": null,
      "outputs": [
        {
          "output_type": "stream",
          "name": "stdout",
          "text": [
            "[[1 2 3]\n",
            " [1 2 3]]\n"
          ]
        }
      ]
    },
    {
      "cell_type": "code",
      "source": [
        "import random\n",
        "random.random()"
      ],
      "metadata": {
        "colab": {
          "base_uri": "https://localhost:8080/"
        },
        "id": "NTEUFRikI6GH",
        "outputId": "024391d2-f380-42bc-87a8-5d3323031d3d"
      },
      "execution_count": null,
      "outputs": [
        {
          "output_type": "execute_result",
          "data": {
            "text/plain": [
              "0.6602949838911383"
            ]
          },
          "metadata": {},
          "execution_count": 14
        }
      ]
    },
    {
      "cell_type": "code",
      "source": [
        "random.randint(2,3)"
      ],
      "metadata": {
        "colab": {
          "base_uri": "https://localhost:8080/"
        },
        "id": "zoImBCg6KH0N",
        "outputId": "89036a3a-39b5-4392-9d2e-8fadedb58350"
      },
      "execution_count": null,
      "outputs": [
        {
          "output_type": "execute_result",
          "data": {
            "text/plain": [
              "3"
            ]
          },
          "metadata": {},
          "execution_count": 17
        }
      ]
    },
    {
      "cell_type": "markdown",
      "source": [
        "NUMPY"
      ],
      "metadata": {
        "id": "Yf2h9MRjgraJ"
      }
    },
    {
      "cell_type": "markdown",
      "source": [
        "Creating numpy array"
      ],
      "metadata": {
        "id": "kq0mAiGYf3QR"
      }
    },
    {
      "cell_type": "code",
      "source": [
        "import numpy as np\n",
        "a=np.array([1,2,4]) #1D array\n",
        "print(type(a))\n",
        "print(a)"
      ],
      "metadata": {
        "colab": {
          "base_uri": "https://localhost:8080/"
        },
        "id": "tlWHyLy_mO3c",
        "outputId": "88ee82c7-54d1-4d85-9905-d30b7ca486bb"
      },
      "execution_count": null,
      "outputs": [
        {
          "output_type": "stream",
          "name": "stdout",
          "text": [
            "<class 'numpy.ndarray'>\n",
            "[1 2 4]\n"
          ]
        }
      ]
    },
    {
      "cell_type": "code",
      "source": [
        "import numpy as np\n",
        "a=np.array([[1,2,3],[1,2,3]]) #2D array using list os lists\n",
        "print(a,\"\\n\")\n",
        "\n",
        "b=np.array([(1,2,3),(4,5,6)]) #2D array using list if tuples\n",
        "print(b,\"\\n\")\n",
        "\n",
        "c=np.array([range(i,i+3) for i in [2,3,5]])  #2D array using list comprehension\n",
        "print(c,\"\\n\")\n",
        "\n",
        "d=np.array([[i for i in range(3)] for j in range(4)]) #2D array using list comprehension\n",
        "print(d)"
      ],
      "metadata": {
        "colab": {
          "base_uri": "https://localhost:8080/"
        },
        "id": "uuqbH7GBEZpv",
        "outputId": "d6cee7a2-9747-4761-f8c7-d718613a4c31"
      },
      "execution_count": null,
      "outputs": [
        {
          "output_type": "stream",
          "name": "stdout",
          "text": [
            "[[1 2 3]\n",
            " [1 2 3]] \n",
            "\n",
            "[[1 2 3]\n",
            " [4 5 6]] \n",
            "\n",
            "[[0 1 2]\n",
            " [1 2 3]\n",
            " [2 3 4]] \n",
            "\n",
            "[[0 1 2]\n",
            " [0 1 2]\n",
            " [0 1 2]\n",
            " [0 1 2]]\n"
          ]
        }
      ]
    },
    {
      "cell_type": "markdown",
      "source": [
        "Various ways to create numpy array"
      ],
      "metadata": {
        "id": "0WI2meZvqaPh"
      }
    },
    {
      "cell_type": "code",
      "source": [
        "a=np.zeros((3,3),dtype=int)  #numpy array consisting of 0s\n",
        "print(a,\"\\n\")\n",
        "\n",
        "b=np.ones(10,dtype=int)      #numpy array consisting of 1s\n",
        "print(b,\"\\n\")\n",
        "\n",
        "c=np.full((3,5),3)           #numpy array consisting of specified number\n",
        "print(c,\"\\n\")\n",
        "\n",
        "d=np.arange(1,10,2)          # 1D numpy array consisting of numbers\n",
        "                                #specified in the range(start,end,steps) without including the end\n",
        "print(d,\"\\n\")\n",
        "\n",
        "e=np.linspace(0, 1, 5)       #gives equally sized array between given range\n",
        "print(e,\"\\n\")\n",
        "\n",
        "f=np.random.random((2,2))       #numpy array consisting of numbers between 0 and 1 \n",
        "print(f,\"\\n\")\n",
        "\n",
        "g=np.random.randint(1,2,(3,3)) #gives numpy array of random numbers bw two given numbers\n",
        "print(g,\"\\n\")\n",
        "\n",
        "h=np.eye(5)                    #identity matrix of given degree\n",
        "print(h,\"\\n\")\n",
        "\n",
        "i=np.empty((2,2,2))            #numpy array of garbage values of given degree\n",
        "print(i)\n"
      ],
      "metadata": {
        "colab": {
          "base_uri": "https://localhost:8080/"
        },
        "id": "pkb5gQnkI8wp",
        "outputId": "6e520da5-f159-474a-fd36-861d17a96bff"
      },
      "execution_count": null,
      "outputs": [
        {
          "output_type": "stream",
          "name": "stdout",
          "text": [
            "[[0 0 0]\n",
            " [0 0 0]\n",
            " [0 0 0]] \n",
            "\n",
            "[1 1 1 1 1 1 1 1 1 1] \n",
            "\n",
            "[[3 3 3 3 3]\n",
            " [3 3 3 3 3]\n",
            " [3 3 3 3 3]] \n",
            "\n",
            "[1 3 5 7 9] \n",
            "\n",
            "[0.   0.25 0.5  0.75 1.  ] \n",
            "\n",
            "[[0.33467462 0.38232033]\n",
            " [0.04588748 0.23675125]] \n",
            "\n",
            "[[1 1 1]\n",
            " [1 1 1]\n",
            " [1 1 1]] \n",
            "\n",
            "[[1. 0. 0. 0. 0.]\n",
            " [0. 1. 0. 0. 0.]\n",
            " [0. 0. 1. 0. 0.]\n",
            " [0. 0. 0. 1. 0.]\n",
            " [0. 0. 0. 0. 1.]] \n",
            "\n",
            "[[[4.14965815e-316 6.79038653e-313]\n",
            "  [2.16443571e-312 2.27053550e-312]]\n",
            "\n",
            " [[1.31563739e-312 6.79038653e-313]\n",
            "  [1.23075756e-312 0.00000000e+000]]]\n"
          ]
        }
      ]
    },
    {
      "cell_type": "markdown",
      "source": [
        "Numpy attributes"
      ],
      "metadata": {
        "id": "pl_fkWcpX35W"
      }
    },
    {
      "cell_type": "code",
      "source": [
        "import numpy as np\n",
        "np.random.seed(0)  # seed for reproducibility\n",
        "\n",
        "x1 = np.random.randint(6,10,5)  # One-dimensional array\n",
        "x2 = np.random.randint(10, size=(3, 4))  # Two-dimensional array\n",
        "x3 = np.random.randint(10, size=(3, 4, 5))  # Three-dimensional array\n",
        "#print(x1)\n",
        "#print(x2)\n",
        "print(x3)\n",
        "print(\"x3 dim:\",x3.ndim) #ndim gives the number of dimensions(axes) of the ndarray\n",
        "print(\"x3 shape:\",x3.shape) #shape is a tuple of integers representing the size of the ndarray in each dimension\n",
        "print(\"x3 size:\",x3.size) #size gives the total number of elements in the ndarray\n",
        "print(\"x3 dtype:\",x3.dtype) #dtype tells the data type of the elements of a NumPy array\n",
        "print(\"itemsize:\", x3.itemsize, \"bytes\") #itemsize returns the size (in bytes) of each element of a NumPy array.\n",
        "print(\"nbytes:\", x3.nbytes, \"bytes\") #nbytes returns the total size of a NumPy array."
      ],
      "metadata": {
        "colab": {
          "base_uri": "https://localhost:8080/"
        },
        "id": "jiCfOylqt_yo",
        "outputId": "420db9d2-c8d3-48a0-b2f8-54eb7a91c37a"
      },
      "execution_count": null,
      "outputs": [
        {
          "output_type": "stream",
          "name": "stdout",
          "text": [
            "[[[6 7 7 8 1]\n",
            "  [5 9 8 9 4]\n",
            "  [3 0 3 5 0]\n",
            "  [2 3 8 1 3]]\n",
            "\n",
            " [[3 3 7 0 1]\n",
            "  [9 9 0 4 7]\n",
            "  [3 2 7 2 0]\n",
            "  [0 4 5 5 6]]\n",
            "\n",
            " [[8 4 1 4 9]\n",
            "  [8 1 1 7 9]\n",
            "  [9 3 6 7 2]\n",
            "  [0 3 5 9 4]]]\n",
            "x3 dim: 3\n",
            "x3 shape: (3, 4, 5)\n",
            "x3 size: 60\n",
            "x3 dtype: int64\n",
            "itemsize: 8 bytes\n",
            "nbytes: 480 bytes\n",
            "[[3 7 9 3]\n",
            " [5 2 4 7]\n",
            " [6 8 8 1]]\n",
            "[[3 7 9 3 5 2]\n",
            " [4 7 6 8 8 1]]\n"
          ]
        }
      ]
    },
    {
      "cell_type": "markdown",
      "source": [
        "Reshaping of np arrays"
      ],
      "metadata": {
        "id": "RbkQyBMFi14F"
      }
    },
    {
      "cell_type": "code",
      "source": [
        "import numpy as np\n",
        "a=np.random.randint(1,10,(3,4))\n",
        "print(\"before reshaping: \\n\",a)\n",
        "print(\"\\n\")\n",
        "print(\"after reshaping: \\n\",a.reshape(2,6))"
      ],
      "metadata": {
        "colab": {
          "base_uri": "https://localhost:8080/"
        },
        "id": "2D72vzH_jBBg",
        "outputId": "ff67a80b-4305-45d2-fefc-7bed09aa7ab4"
      },
      "execution_count": null,
      "outputs": [
        {
          "output_type": "stream",
          "name": "stdout",
          "text": [
            "before reshaping: \n",
            " [[2 9 6 8]\n",
            " [6 6 2 4]\n",
            " [7 9 1 2]]\n",
            "\n",
            "\n",
            "after reshaping: \n",
            " [[2 9 6 8 6 6]\n",
            " [2 4 7 9 1 2]]\n"
          ]
        }
      ]
    },
    {
      "cell_type": "code",
      "source": [
        "import numpy as np\n",
        "a=np.random.randint(1,10,(2,3,4))\n",
        "print(\"before using ravel function:\\n\",a)\n",
        "print(\"\\n\")\n",
        "print(\"After using ravel function:\\n\",a.ravel())  #this will convert all the rows in one row"
      ],
      "metadata": {
        "colab": {
          "base_uri": "https://localhost:8080/"
        },
        "id": "Lp0ejzm1AdZS",
        "outputId": "c986a723-1131-43e2-d123-7d415d756267"
      },
      "execution_count": null,
      "outputs": [
        {
          "output_type": "stream",
          "name": "stdout",
          "text": [
            "before using ravel function:\n",
            " [[[4 8 4 2]\n",
            "  [4 6 1 4]\n",
            "  [6 2 9 2]]\n",
            "\n",
            " [[3 5 1 3]\n",
            "  [4 8 6 3]\n",
            "  [9 4 7 7]]]\n",
            "\n",
            "\n",
            "After using ravel function:\n",
            " [4 8 4 2 4 6 1 4 6 2 9 2 3 5 1 3 4 8 6 3 9 4 7 7]\n"
          ]
        }
      ]
    },
    {
      "cell_type": "code",
      "source": [
        "# addition, subtraction, multiplication, division of arrays\n",
        "a=np.array([[1,2,3],[4,5,6]])\n",
        "b=np.array([[1,2,3],[4,5,6]])\n",
        "\n",
        "print(a+b)\n",
        "print(\"\")\n",
        "print(a-b)\n",
        "print(end='')\n",
        "print(a*b) #this is not matrix multiplication\n",
        "print('end')\n",
        "print(a/b)"
      ],
      "metadata": {
        "colab": {
          "base_uri": "https://localhost:8080/"
        },
        "id": "6wA3c6t66mpx",
        "outputId": "a4806eec-fdf1-4289-b802-928373e6f89a"
      },
      "execution_count": null,
      "outputs": [
        {
          "output_type": "stream",
          "name": "stdout",
          "text": [
            "[[ 2  4  6]\n",
            " [ 8 10 12]]\n",
            "\n",
            "[[0 0 0]\n",
            " [0 0 0]]\n",
            "[[ 1  4  9]\n",
            " [16 25 36]]\n",
            "end\n",
            "[[1. 1. 1.]\n",
            " [1. 1. 1.]]\n"
          ]
        }
      ]
    },
    {
      "cell_type": "markdown",
      "source": [
        "Transpose of an array"
      ],
      "metadata": {
        "id": "S0nAxlgLh3Lt"
      }
    },
    {
      "cell_type": "code",
      "source": [
        "import numpy as np\n",
        "a=np.array([[1,2,3],[1,2,3]])\n",
        "print(\"a:\",a,\"\\n\")\n",
        "print(\"Transpose of a is \\n\",a.T)"
      ],
      "metadata": {
        "colab": {
          "base_uri": "https://localhost:8080/"
        },
        "id": "3uFc4q-_h95S",
        "outputId": "8cbbb5d2-b763-44e4-d210-fca7e46417ed"
      },
      "execution_count": null,
      "outputs": [
        {
          "output_type": "stream",
          "name": "stdout",
          "text": [
            "a: [[1 2 3]\n",
            " [1 2 3]] \n",
            "\n",
            "Transpose of a is \n",
            " [[1 1]\n",
            " [2 2]\n",
            " [3 3]]\n"
          ]
        }
      ]
    },
    {
      "cell_type": "code",
      "source": [
        "# max, min and sum\n",
        "\n",
        "a=np.array([1,2,3,4,5])\n",
        "print(a.max())\n",
        "print(a.min())\n",
        "print(a.sum())"
      ],
      "metadata": {
        "colab": {
          "base_uri": "https://localhost:8080/"
        },
        "id": "l-uKRU_coiU7",
        "outputId": "35de8bf8-74e4-4547-e4f4-47c3ecb221f3"
      },
      "execution_count": null,
      "outputs": [
        {
          "output_type": "stream",
          "name": "stdout",
          "text": [
            "5\n",
            "1\n",
            "15\n"
          ]
        }
      ]
    },
    {
      "cell_type": "code",
      "source": [
        "# rows are called axis=1, and cols are called axis=0\n",
        "import numpy as np\n",
        "a=np.array([[1,2,3],[4,5,6]])\n",
        "print(a.max(axis=0)) #this will give the max of each col\n",
        "\n",
        "print(a.max(axis=1)) #this will give the max of each row\n",
        "\n",
        "print(a.min(axis=0)) #this will give the min of each col\n",
        "\n",
        "print(a.min(axis=1)) #this will give the min of each row\n",
        "\n",
        "print(a.sum(axis=0)) #this willl give the sum of each col\n",
        "\n",
        "print(a.sum(axis=1)) #this will give the sum of each row"
      ],
      "metadata": {
        "colab": {
          "base_uri": "https://localhost:8080/"
        },
        "id": "gG5V33xfo6L_",
        "outputId": "6f8a7cd9-c3a7-4581-b1c4-7925f88e1fc1"
      },
      "execution_count": null,
      "outputs": [
        {
          "output_type": "stream",
          "name": "stdout",
          "text": [
            "[4 5 6]\n",
            "[3 6]\n",
            "[1 2 3]\n",
            "[1 4]\n",
            "[5 7 9]\n",
            "[ 6 15]\n"
          ]
        }
      ]
    },
    {
      "cell_type": "code",
      "source": [
        "# square root and standard deviation in numpy\n",
        "\n",
        "# standar deviation is how much each element deviates/varies from the mean or something like that\n",
        "\n",
        "import numpy as np\n",
        "\n",
        "a=np.array([4,9,16,25,36,49])\n",
        "print(np.sqrt(a)) #will print the square root of each element\n",
        "\n",
        "a=np.array([1,2,3,4,5])\n",
        "print(np.std(a))  #will print the standard deviation "
      ],
      "metadata": {
        "colab": {
          "base_uri": "https://localhost:8080/"
        },
        "id": "1CHnqctl5iA8",
        "outputId": "9cdce4a3-82ae-49e8-a53b-981a516618b7"
      },
      "execution_count": null,
      "outputs": [
        {
          "output_type": "stream",
          "name": "stdout",
          "text": [
            "[2. 3. 4. 5. 6. 7.]\n",
            "1.4142135623730951\n"
          ]
        }
      ]
    },
    {
      "cell_type": "code",
      "source": [
        "#concatenation in arrays\n",
        "a=np.array([[1,2,3],[4,5,6]])\n",
        "b=np.array([[7,8,9],[10,11,12]])\n",
        "c=np.array([[13,14,15],[16,17,18]])\n",
        "\n",
        "print(np.vstack((a,b,c)))  #vertical stack\n",
        "print('')\n",
        "print(np.hstack((a,b,c)))  #horizontal stack"
      ],
      "metadata": {
        "colab": {
          "base_uri": "https://localhost:8080/"
        },
        "id": "g1GQULAE7oAD",
        "outputId": "94fe369e-d851-4d1e-af76-6a906a739672"
      },
      "execution_count": null,
      "outputs": [
        {
          "output_type": "stream",
          "name": "stdout",
          "text": [
            "[[ 1  2  3]\n",
            " [ 4  5  6]\n",
            " [ 7  8  9]\n",
            " [10 11 12]\n",
            " [13 14 15]\n",
            " [16 17 18]]\n",
            "\n",
            "[[ 1  2  3  7  8  9 13 14 15]\n",
            " [ 4  5  6 10 11 12 16 17 18]]\n"
          ]
        }
      ]
    },
    {
      "cell_type": "markdown",
      "source": [
        "Numpy occupies less memory than list"
      ],
      "metadata": {
        "id": "aZo6yJmtjeBv"
      }
    },
    {
      "cell_type": "code",
      "source": [
        "import numpy as np\n",
        "import time\n",
        "import sys\n",
        "a=[i for i in range(10)]\n",
        "print(type(a))\n",
        "print(a)\n",
        "print(sys.getsizeof(1)*len(a))\n",
        "b=np.arange(10)\n",
        "print(type(b))\n",
        "print(b)\n",
        "print(b.itemsize*b.size)"
      ],
      "metadata": {
        "colab": {
          "base_uri": "https://localhost:8080/"
        },
        "id": "dzlBxHuWjl6f",
        "outputId": "a158f20a-683f-4af0-da2e-d2833ac729b5"
      },
      "execution_count": null,
      "outputs": [
        {
          "output_type": "stream",
          "name": "stdout",
          "text": [
            "<class 'list'>\n",
            "[0, 1, 2, 3, 4, 5, 6, 7, 8, 9]\n",
            "280\n",
            "<class 'numpy.ndarray'>\n",
            "[0 1 2 3 4 5 6 7 8 9]\n",
            "80\n"
          ]
        }
      ]
    },
    {
      "cell_type": "markdown",
      "source": [
        "Numpy is faster than lists"
      ],
      "metadata": {
        "id": "ty3uvnJZnI49"
      }
    },
    {
      "cell_type": "code",
      "source": [
        "import numpy as np\n",
        "import time\n",
        "size=10000000\n",
        "l1=range(size)\n",
        "l2=range(size)\n",
        "a1=np.arange(size)\n",
        "a2=np.arange(size)\n",
        "start=time.time()\n",
        "result=[(x+y) for x,y in zip(l1,l2)]\n",
        "#print(result)\n",
        "print((time.time()-start))\n",
        "start=time.time()\n",
        "result=a1+a2\n",
        "print((time.time()-start))"
      ],
      "metadata": {
        "colab": {
          "base_uri": "https://localhost:8080/"
        },
        "id": "dh1gYPBDnMza",
        "outputId": "f5d6188a-6748-43da-9c60-b63ba54c0b46"
      },
      "execution_count": null,
      "outputs": [
        {
          "output_type": "stream",
          "name": "stdout",
          "text": [
            "1.350170612335205\n",
            "0.15089893341064453\n"
          ]
        }
      ]
    },
    {
      "cell_type": "code",
      "source": [
        "import numpy as np\n",
        "import statistics\n",
        "url=\"https://raw.githubusercontent.com/ahkhaider-10/Python/master/ClassExamples/PJ121/Wines/winequality-red.csv\"\n",
        "file=np.genfromtxt(url,delimiter=\";\",skip_header=1)\n",
        "file\n",
        "print(file[1:3,1:3])\n",
        "print(file[1:3,[1,2,3]])\n",
        "print(file[[1,2,3],:])\n",
        "print(file.min())\n",
        "print(file.max(axis=1))\n",
        "print(np.std(file[:,6]))\n",
        "print(statistics.stdev(file[:,6]))\n",
        "print(statistics.variance(file[:,6]))"
      ],
      "metadata": {
        "colab": {
          "base_uri": "https://localhost:8080/"
        },
        "id": "xBnbI1CDG_lJ",
        "outputId": "d2885889-64c1-4725-87f6-3c51418e4459"
      },
      "execution_count": null,
      "outputs": [
        {
          "output_type": "stream",
          "name": "stdout",
          "text": [
            "[[0.88 0.  ]\n",
            " [0.76 0.04]]\n",
            "[[0.88 0.   2.6 ]\n",
            " [0.76 0.04 2.3 ]]\n",
            "[[7.800e+00 8.800e-01 0.000e+00 2.600e+00 9.800e-02 2.500e+01 6.700e+01\n",
            "  9.968e-01 3.200e+00 6.800e-01 9.800e+00 5.000e+00]\n",
            " [7.800e+00 7.600e-01 4.000e-02 2.300e+00 9.200e-02 1.500e+01 5.400e+01\n",
            "  9.970e-01 3.260e+00 6.500e-01 9.800e+00 5.000e+00]\n",
            " [1.120e+01 2.800e-01 5.600e-01 1.900e+00 7.500e-02 1.700e+01 6.000e+01\n",
            "  9.980e-01 3.160e+00 5.800e-01 9.800e+00 6.000e+00]]\n",
            "0.0\n",
            "[34. 67. 54. ... 40. 44. 42.]\n",
            "32.88503665178374\n",
            "32.89532447829908\n",
            "1082.1023725325826\n"
          ]
        }
      ]
    },
    {
      "cell_type": "markdown",
      "source": [
        "Time taken by numpy"
      ],
      "metadata": {
        "id": "Gje9x9W8Xn-w"
      }
    },
    {
      "cell_type": "code",
      "source": [
        "import numpy as np\n",
        "import random\n",
        "def recp(c):\n",
        "  out=np.empty(len(c))\n",
        "  for i in range(len(c)):\n",
        "    out[i]= 1.0/c[i]\n",
        "  return out  \n",
        "\n",
        "a=np.random.randint(1,10,5)\n",
        "print(a)\n",
        "print(recp(a))\n",
        "%timeit recp(a)\n",
        "b=np.random.randint(1,100,1000000)\n",
        "print(1.0/b)\n",
        "%timeit recp(b)\n",
        "%timeit (1.0/b)"
      ],
      "metadata": {
        "colab": {
          "base_uri": "https://localhost:8080/"
        },
        "id": "P8o8DXYoVe5X",
        "outputId": "f92040ee-651f-4594-e97f-a30464f7ac41"
      },
      "execution_count": null,
      "outputs": [
        {
          "output_type": "stream",
          "name": "stdout",
          "text": [
            "[4 6 7 1 5]\n",
            "[0.25       0.16666667 0.14285714 1.         0.2       ]\n",
            "The slowest run took 6.39 times longer than the fastest. This could mean that an intermediate result is being cached.\n",
            "100000 loops, best of 5: 11.8 µs per loop\n",
            "[0.01282051 0.02040816 0.01020408 ... 0.05555556 0.02941176 0.02222222]\n",
            "1 loop, best of 5: 2.09 s per loop\n",
            "1000 loops, best of 5: 1.87 ms per loop\n"
          ]
        }
      ]
    },
    {
      "cell_type": "code",
      "source": [
        "import numpy as np\n",
        "import matplotlib.pyplot as mt\n",
        "a=np.array([1,2,3,4,2])\n",
        "mt.hist(a,bins=10)"
      ],
      "metadata": {
        "id": "hAfPniZugQm-",
        "colab": {
          "base_uri": "https://localhost:8080/",
          "height": 317
        },
        "outputId": "ecd7aa3c-ce9a-411c-a7ed-866b9e2f6ac5"
      },
      "execution_count": null,
      "outputs": [
        {
          "output_type": "execute_result",
          "data": {
            "text/plain": [
              "(array([1., 0., 0., 2., 0., 0., 1., 0., 0., 1.]),\n",
              " array([1. , 1.3, 1.6, 1.9, 2.2, 2.5, 2.8, 3.1, 3.4, 3.7, 4. ]),\n",
              " <a list of 10 Patch objects>)"
            ]
          },
          "metadata": {},
          "execution_count": 1
        },
        {
          "output_type": "display_data",
          "data": {
            "text/plain": [
              "<Figure size 432x288 with 1 Axes>"
            ],
            "image/png": "[encoded data removed]"
          },
          "metadata": {
            "needs_background": "light"
          }
        }
      ]
    },
    {
      "cell_type": "code",
      "source": [
        "from google.colab import files\n",
        "\n",
        "with open('example.txt', 'w') as f:\n",
        "  f.write('some content')\n",
        "\n",
        "files.download('example.txt')"
      ],
      "metadata": {
        "colab": {
          "base_uri": "https://localhost:8080/",
          "height": 17
        },
        "id": "YG2PISpyvoQA",
        "outputId": "4449015c-3731-4461-cded-56c9667d1cf8"
      },
      "execution_count": 10,
      "outputs": [
        {
          "output_type": "display_data",
          "data": {
            "text/plain": [
              "<IPython.core.display.Javascript object>"
            ],
            "application/javascript": [
              "\n",
              "    async function download(id, filename, size) {\n",
              "      if (!google.colab.kernel.accessAllowed) {\n",
              "        return;\n",
              "      }\n",
              "      const div = document.createElement('div');\n",
              "      const label = document.createElement('label');\n",
              "      label.textContent = `Downloading \"${filename}\": `;\n",
              "      div.appendChild(label);\n",
              "      const progress = document.createElement('progress');\n",
              "      progress.max = size;\n",
              "      div.appendChild(progress);\n",
              "      document.body.appendChild(div);\n",
              "\n",
              "      const buffers = [];\n",
              "      let downloaded = 0;\n",
              "\n",
              "      const channel = await google.colab.kernel.comms.open(id);\n",
              "      // Send a message to notify the kernel that we're ready.\n",
              "      channel.send({})\n",
              "\n",
              "      for await (const message of channel.messages) {\n",
              "        // Send a message to notify the kernel that we're ready.\n",
              "        channel.send({})\n",
              "        if (message.buffers) {\n",
              "          for (const buffer of message.buffers) {\n",
              "            buffers.push(buffer);\n",
              "            downloaded += buffer.byteLength;\n",
              "            progress.value = downloaded;\n",
              "          }\n",
              "        }\n",
              "      }\n",
              "      const blob = new Blob(buffers, {type: 'application/binary'});\n",
              "      const a = document.createElement('a');\n",
              "      a.href = window.URL.createObjectURL(blob);\n",
              "      a.download = filename;\n",
              "      div.appendChild(a);\n",
              "      a.click();\n",
              "      div.remove();\n",
              "    }\n",
              "  "
            ]
          },
          "metadata": {}
        },
        {
          "output_type": "display_data",
          "data": {
            "text/plain": [
              "<IPython.core.display.Javascript object>"
            ],
            "application/javascript": [
              "download(\"download_21204ada-61ee-4ddb-82b0-09a8369c53a5\", \"example.txt\", 12)"
            ]
          },
          "metadata": {}
        }
      ]
    }
  ]
}